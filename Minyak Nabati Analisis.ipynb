{
 "cells": [
  {
   "cell_type": "markdown",
   "id": "a68685ec",
   "metadata": {},
   "source": [
    "# Import Data"
   ]
  },
  {
   "cell_type": "code",
   "execution_count": 2,
   "id": "62e5fc41",
   "metadata": {
    "ExecuteTime": {
     "end_time": "2023-09-14T05:18:21.582030Z",
     "start_time": "2023-09-14T05:18:05.702473Z"
    }
   },
   "outputs": [
    {
     "name": "stderr",
     "output_type": "stream",
     "text": [
      "/usr/lib/python3/dist-packages/scipy/__init__.py:146: UserWarning: A NumPy version >=1.17.3 and <1.25.0 is required for this version of SciPy (detected version 1.25.2\n",
      "  warnings.warn(f\"A NumPy version >={np_minversion} and <{np_maxversion}\"\n"
     ]
    }
   ],
   "source": [
    "import pandas as pd \n",
    "import seaborn as sns\n",
    "import matplotlib.pyplot as plt\n",
    "import warnings\n",
    "\n",
    "warnings.simplefilter(action='ignore', category=FutureWarning)"
   ]
  },
  {
   "cell_type": "code",
   "execution_count": 3,
   "id": "17457ddd",
   "metadata": {
    "ExecuteTime": {
     "end_time": "2023-09-14T05:18:22.061705Z",
     "start_time": "2023-09-14T05:18:21.589018Z"
    }
   },
   "outputs": [
    {
     "data": {
      "text/html": [
       "<div>\n",
       "<style scoped>\n",
       "    .dataframe tbody tr th:only-of-type {\n",
       "        vertical-align: middle;\n",
       "    }\n",
       "\n",
       "    .dataframe tbody tr th {\n",
       "        vertical-align: top;\n",
       "    }\n",
       "\n",
       "    .dataframe thead th {\n",
       "        text-align: right;\n",
       "    }\n",
       "</style>\n",
       "<table border=\"1\" class=\"dataframe\">\n",
       "  <thead>\n",
       "    <tr style=\"text-align: right;\">\n",
       "      <th></th>\n",
       "      <th>Year</th>\n",
       "      <th>Area</th>\n",
       "      <th>Code</th>\n",
       "      <th>Item</th>\n",
       "      <th>Produksi_t</th>\n",
       "      <th>Luas_ha</th>\n",
       "    </tr>\n",
       "  </thead>\n",
       "  <tbody>\n",
       "    <tr>\n",
       "      <th>1932</th>\n",
       "      <td>2020</td>\n",
       "      <td>Brazil</td>\n",
       "      <td>BRA</td>\n",
       "      <td>Soybean oil</td>\n",
       "      <td>19114000.00</td>\n",
       "      <td>37188168</td>\n",
       "    </tr>\n",
       "    <tr>\n",
       "      <th>1931</th>\n",
       "      <td>2019</td>\n",
       "      <td>Brazil</td>\n",
       "      <td>BRA</td>\n",
       "      <td>Soybean oil</td>\n",
       "      <td>22526690.00</td>\n",
       "      <td>35895208</td>\n",
       "    </tr>\n",
       "    <tr>\n",
       "      <th>1930</th>\n",
       "      <td>2018</td>\n",
       "      <td>Brazil</td>\n",
       "      <td>BRA</td>\n",
       "      <td>Soybean oil</td>\n",
       "      <td>18774078.00</td>\n",
       "      <td>34777936</td>\n",
       "    </tr>\n",
       "    <tr>\n",
       "      <th>1929</th>\n",
       "      <td>2017</td>\n",
       "      <td>Brazil</td>\n",
       "      <td>BRA</td>\n",
       "      <td>Soybean oil</td>\n",
       "      <td>20250776.00</td>\n",
       "      <td>33959880</td>\n",
       "    </tr>\n",
       "    <tr>\n",
       "      <th>1928</th>\n",
       "      <td>2016</td>\n",
       "      <td>Brazil</td>\n",
       "      <td>BRA</td>\n",
       "      <td>Soybean oil</td>\n",
       "      <td>15770000.00</td>\n",
       "      <td>33183120</td>\n",
       "    </tr>\n",
       "    <tr>\n",
       "      <th>...</th>\n",
       "      <td>...</td>\n",
       "      <td>...</td>\n",
       "      <td>...</td>\n",
       "      <td>...</td>\n",
       "      <td>...</td>\n",
       "      <td>...</td>\n",
       "    </tr>\n",
       "    <tr>\n",
       "      <th>7486</th>\n",
       "      <td>2016</td>\n",
       "      <td>Italy</td>\n",
       "      <td>ITA</td>\n",
       "      <td>Coconut oil</td>\n",
       "      <td>641.92</td>\n",
       "      <td>0</td>\n",
       "    </tr>\n",
       "    <tr>\n",
       "      <th>7485</th>\n",
       "      <td>2015</td>\n",
       "      <td>Italy</td>\n",
       "      <td>ITA</td>\n",
       "      <td>Coconut oil</td>\n",
       "      <td>593.88</td>\n",
       "      <td>0</td>\n",
       "    </tr>\n",
       "    <tr>\n",
       "      <th>7484</th>\n",
       "      <td>2014</td>\n",
       "      <td>Italy</td>\n",
       "      <td>ITA</td>\n",
       "      <td>Coconut oil</td>\n",
       "      <td>1018.28</td>\n",
       "      <td>0</td>\n",
       "    </tr>\n",
       "    <tr>\n",
       "      <th>7483</th>\n",
       "      <td>2013</td>\n",
       "      <td>Italy</td>\n",
       "      <td>ITA</td>\n",
       "      <td>Coconut oil</td>\n",
       "      <td>512.00</td>\n",
       "      <td>0</td>\n",
       "    </tr>\n",
       "    <tr>\n",
       "      <th>13723</th>\n",
       "      <td>2013</td>\n",
       "      <td>Zimbabwe</td>\n",
       "      <td>ZWE</td>\n",
       "      <td>Linseed oil</td>\n",
       "      <td>0.00</td>\n",
       "      <td>0</td>\n",
       "    </tr>\n",
       "  </tbody>\n",
       "</table>\n",
       "<p>13724 rows × 6 columns</p>\n",
       "</div>"
      ],
      "text/plain": [
       "       Year      Area Code         Item   Produksi_t   Luas_ha\n",
       "1932   2020    Brazil  BRA  Soybean oil  19114000.00  37188168\n",
       "1931   2019    Brazil  BRA  Soybean oil  22526690.00  35895208\n",
       "1930   2018    Brazil  BRA  Soybean oil  18774078.00  34777936\n",
       "1929   2017    Brazil  BRA  Soybean oil  20250776.00  33959880\n",
       "1928   2016    Brazil  BRA  Soybean oil  15770000.00  33183120\n",
       "...     ...       ...  ...          ...          ...       ...\n",
       "7486   2016     Italy  ITA  Coconut oil       641.92         0\n",
       "7485   2015     Italy  ITA  Coconut oil       593.88         0\n",
       "7484   2014     Italy  ITA  Coconut oil      1018.28         0\n",
       "7483   2013     Italy  ITA  Coconut oil       512.00         0\n",
       "13723  2013  Zimbabwe  ZWE  Linseed oil         0.00         0\n",
       "\n",
       "[13724 rows x 6 columns]"
      ]
     },
     "execution_count": 3,
     "metadata": {},
     "output_type": "execute_result"
    }
   ],
   "source": [
    "df = pd.read_csv('/home/yuma/Documents/My Project/Minyak nabati/Workspace/Luas lahan dan produksi minyak nabati.csv')\n",
    "df.sort_values('Luas_ha', ascending=False)"
   ]
  },
  {
   "cell_type": "code",
   "execution_count": 4,
   "id": "4e7e14c5",
   "metadata": {
    "ExecuteTime": {
     "end_time": "2023-09-14T05:18:22.351231Z",
     "start_time": "2023-09-14T05:18:22.069090Z"
    }
   },
   "outputs": [
    {
     "name": "stdout",
     "output_type": "stream",
     "text": [
      "<class 'pandas.core.frame.DataFrame'>\n",
      "Index: 35 entries, 0 to 34\n",
      "Data columns (total 2 columns):\n",
      " #   Column      Non-Null Count  Dtype  \n",
      "---  ------      --------------  -----  \n",
      " 0   Provinsi    35 non-null     object \n",
      " 1   Luas (kha)  35 non-null     float64\n",
      "dtypes: float64(1), object(1)\n",
      "memory usage: 840.0+ bytes\n",
      "None\n",
      "                Provinsi  Luas (kha)\n",
      "0                   ACEH       488.0\n",
      "1         SUMATERA UTARA      1325.1\n",
      "2         SUMATERA BARAT       393.3\n",
      "3                   RIAU      2853.8\n",
      "4                  JAMBI      1074.6\n",
      "5       SUMATERA SELATAN      1198.0\n",
      "6               BENGKULU       325.3\n",
      "7                LAMPUNG       196.3\n",
      "8   KEP. BANGKA BELITUNG       239.8\n",
      "9              KEP. RIAU         7.4\n",
      "10           DKI JAKARTA         0.0\n",
      "11            JAWA BARAT        13.5\n",
      "12           JAWA TENGAH         0.0\n",
      "13         DI YOGYAKARTA         0.0\n",
      "14            JAWA TIMUR         0.0\n",
      "15                BANTEN        19.2\n",
      "16                  BALI         0.0\n",
      "17   NUSA TENGGARA BARAT         0.0\n",
      "18   NUSA TENGGARA TIMUR         0.0\n",
      "19      KALIMANTAN BARAT      2039.2\n",
      "20     KALIMANTAN TENGAH      2018.7\n",
      "21    KALIMANTAN SELATAN       497.3\n",
      "22      KALIMANTAN TIMUR      1313.6\n",
      "23      KALIMANTAN UTARA       157.7\n",
      "24        SULAWESI UTARA         0.0\n",
      "25       SULAWESI TENGAH       145.9\n",
      "26      SULAWESI SELATAN        44.7\n",
      "27     SULAWESI TENGGARA       110.3\n",
      "28             GORONTALO        13.3\n",
      "29        SULAWESI BARAT       156.2\n",
      "30                MALUKU        10.9\n",
      "31          MALUKU UTARA         5.5\n",
      "32           PAPUA BARAT        51.0\n",
      "33                 PAPUA       159.7\n",
      "34             INDONESIA     14858.3\n"
     ]
    }
   ],
   "source": [
    "df_prov = pd.read_csv('/home/yuma/Documents/My Project/Minyak nabati/Workspace/Luas Kebun Sawit di Indonesia - Sheet1 (1).csv')\n",
    "df_prov = df_prov.dropna()\n",
    "print(df_prov.info())\n",
    "print(df_prov)"
   ]
  },
  {
   "cell_type": "code",
   "execution_count": 5,
   "id": "0b646627",
   "metadata": {
    "ExecuteTime": {
     "end_time": "2023-09-14T05:18:22.423984Z",
     "start_time": "2023-09-14T05:18:22.365960Z"
    }
   },
   "outputs": [
    {
     "data": {
      "text/html": [
       "<div>\n",
       "<style scoped>\n",
       "    .dataframe tbody tr th:only-of-type {\n",
       "        vertical-align: middle;\n",
       "    }\n",
       "\n",
       "    .dataframe tbody tr th {\n",
       "        vertical-align: top;\n",
       "    }\n",
       "\n",
       "    .dataframe thead th {\n",
       "        text-align: right;\n",
       "    }\n",
       "</style>\n",
       "<table border=\"1\" class=\"dataframe\">\n",
       "  <thead>\n",
       "    <tr style=\"text-align: right;\">\n",
       "      <th></th>\n",
       "      <th>Provinsi</th>\n",
       "      <th>Luas (kha)</th>\n",
       "    </tr>\n",
       "  </thead>\n",
       "  <tbody>\n",
       "    <tr>\n",
       "      <th>0</th>\n",
       "      <td>RIAU</td>\n",
       "      <td>2853.8</td>\n",
       "    </tr>\n",
       "    <tr>\n",
       "      <th>1</th>\n",
       "      <td>KALIMANTAN BARAT</td>\n",
       "      <td>2039.2</td>\n",
       "    </tr>\n",
       "    <tr>\n",
       "      <th>2</th>\n",
       "      <td>KALIMANTAN TENGAH</td>\n",
       "      <td>2018.7</td>\n",
       "    </tr>\n",
       "    <tr>\n",
       "      <th>3</th>\n",
       "      <td>SUMATERA UTARA</td>\n",
       "      <td>1325.1</td>\n",
       "    </tr>\n",
       "    <tr>\n",
       "      <th>4</th>\n",
       "      <td>KALIMANTAN TIMUR</td>\n",
       "      <td>1313.6</td>\n",
       "    </tr>\n",
       "    <tr>\n",
       "      <th>5</th>\n",
       "      <td>SUMATERA SELATAN</td>\n",
       "      <td>1198.0</td>\n",
       "    </tr>\n",
       "    <tr>\n",
       "      <th>6</th>\n",
       "      <td>JAMBI</td>\n",
       "      <td>1074.6</td>\n",
       "    </tr>\n",
       "    <tr>\n",
       "      <th>7</th>\n",
       "      <td>KALIMANTAN SELATAN</td>\n",
       "      <td>497.3</td>\n",
       "    </tr>\n",
       "    <tr>\n",
       "      <th>8</th>\n",
       "      <td>ACEH</td>\n",
       "      <td>488.0</td>\n",
       "    </tr>\n",
       "    <tr>\n",
       "      <th>9</th>\n",
       "      <td>SUMATERA BARAT</td>\n",
       "      <td>393.3</td>\n",
       "    </tr>\n",
       "    <tr>\n",
       "      <th>10</th>\n",
       "      <td>BENGKULU</td>\n",
       "      <td>325.3</td>\n",
       "    </tr>\n",
       "    <tr>\n",
       "      <th>11</th>\n",
       "      <td>KEP. BANGKA BELITUNG</td>\n",
       "      <td>239.8</td>\n",
       "    </tr>\n",
       "    <tr>\n",
       "      <th>12</th>\n",
       "      <td>LAMPUNG</td>\n",
       "      <td>196.3</td>\n",
       "    </tr>\n",
       "    <tr>\n",
       "      <th>13</th>\n",
       "      <td>PAPUA</td>\n",
       "      <td>159.7</td>\n",
       "    </tr>\n",
       "    <tr>\n",
       "      <th>14</th>\n",
       "      <td>KALIMANTAN UTARA</td>\n",
       "      <td>157.7</td>\n",
       "    </tr>\n",
       "    <tr>\n",
       "      <th>15</th>\n",
       "      <td>SULAWESI BARAT</td>\n",
       "      <td>156.2</td>\n",
       "    </tr>\n",
       "    <tr>\n",
       "      <th>16</th>\n",
       "      <td>SULAWESI TENGAH</td>\n",
       "      <td>145.9</td>\n",
       "    </tr>\n",
       "    <tr>\n",
       "      <th>17</th>\n",
       "      <td>SULAWESI TENGGARA</td>\n",
       "      <td>110.3</td>\n",
       "    </tr>\n",
       "    <tr>\n",
       "      <th>18</th>\n",
       "      <td>PAPUA BARAT</td>\n",
       "      <td>51.0</td>\n",
       "    </tr>\n",
       "    <tr>\n",
       "      <th>19</th>\n",
       "      <td>SULAWESI SELATAN</td>\n",
       "      <td>44.7</td>\n",
       "    </tr>\n",
       "    <tr>\n",
       "      <th>20</th>\n",
       "      <td>BANTEN</td>\n",
       "      <td>19.2</td>\n",
       "    </tr>\n",
       "    <tr>\n",
       "      <th>21</th>\n",
       "      <td>JAWA BARAT</td>\n",
       "      <td>13.5</td>\n",
       "    </tr>\n",
       "    <tr>\n",
       "      <th>22</th>\n",
       "      <td>GORONTALO</td>\n",
       "      <td>13.3</td>\n",
       "    </tr>\n",
       "    <tr>\n",
       "      <th>23</th>\n",
       "      <td>MALUKU</td>\n",
       "      <td>10.9</td>\n",
       "    </tr>\n",
       "    <tr>\n",
       "      <th>24</th>\n",
       "      <td>KEP. RIAU</td>\n",
       "      <td>7.4</td>\n",
       "    </tr>\n",
       "    <tr>\n",
       "      <th>25</th>\n",
       "      <td>MALUKU UTARA</td>\n",
       "      <td>5.5</td>\n",
       "    </tr>\n",
       "    <tr>\n",
       "      <th>26</th>\n",
       "      <td>DKI JAKARTA</td>\n",
       "      <td>0.0</td>\n",
       "    </tr>\n",
       "    <tr>\n",
       "      <th>27</th>\n",
       "      <td>SULAWESI UTARA</td>\n",
       "      <td>0.0</td>\n",
       "    </tr>\n",
       "    <tr>\n",
       "      <th>28</th>\n",
       "      <td>NUSA TENGGARA TIMUR</td>\n",
       "      <td>0.0</td>\n",
       "    </tr>\n",
       "    <tr>\n",
       "      <th>29</th>\n",
       "      <td>BALI</td>\n",
       "      <td>0.0</td>\n",
       "    </tr>\n",
       "    <tr>\n",
       "      <th>30</th>\n",
       "      <td>JAWA TIMUR</td>\n",
       "      <td>0.0</td>\n",
       "    </tr>\n",
       "    <tr>\n",
       "      <th>31</th>\n",
       "      <td>DI YOGYAKARTA</td>\n",
       "      <td>0.0</td>\n",
       "    </tr>\n",
       "    <tr>\n",
       "      <th>32</th>\n",
       "      <td>JAWA TENGAH</td>\n",
       "      <td>0.0</td>\n",
       "    </tr>\n",
       "    <tr>\n",
       "      <th>33</th>\n",
       "      <td>NUSA TENGGARA BARAT</td>\n",
       "      <td>0.0</td>\n",
       "    </tr>\n",
       "  </tbody>\n",
       "</table>\n",
       "</div>"
      ],
      "text/plain": [
       "                Provinsi  Luas (kha)\n",
       "0                   RIAU      2853.8\n",
       "1       KALIMANTAN BARAT      2039.2\n",
       "2      KALIMANTAN TENGAH      2018.7\n",
       "3         SUMATERA UTARA      1325.1\n",
       "4       KALIMANTAN TIMUR      1313.6\n",
       "5       SUMATERA SELATAN      1198.0\n",
       "6                  JAMBI      1074.6\n",
       "7     KALIMANTAN SELATAN       497.3\n",
       "8                   ACEH       488.0\n",
       "9         SUMATERA BARAT       393.3\n",
       "10              BENGKULU       325.3\n",
       "11  KEP. BANGKA BELITUNG       239.8\n",
       "12               LAMPUNG       196.3\n",
       "13                 PAPUA       159.7\n",
       "14      KALIMANTAN UTARA       157.7\n",
       "15        SULAWESI BARAT       156.2\n",
       "16       SULAWESI TENGAH       145.9\n",
       "17     SULAWESI TENGGARA       110.3\n",
       "18           PAPUA BARAT        51.0\n",
       "19      SULAWESI SELATAN        44.7\n",
       "20                BANTEN        19.2\n",
       "21            JAWA BARAT        13.5\n",
       "22             GORONTALO        13.3\n",
       "23                MALUKU        10.9\n",
       "24             KEP. RIAU         7.4\n",
       "25          MALUKU UTARA         5.5\n",
       "26           DKI JAKARTA         0.0\n",
       "27        SULAWESI UTARA         0.0\n",
       "28   NUSA TENGGARA TIMUR         0.0\n",
       "29                  BALI         0.0\n",
       "30            JAWA TIMUR         0.0\n",
       "31         DI YOGYAKARTA         0.0\n",
       "32           JAWA TENGAH         0.0\n",
       "33   NUSA TENGGARA BARAT         0.0"
      ]
     },
     "execution_count": 5,
     "metadata": {},
     "output_type": "execute_result"
    }
   ],
   "source": [
    "df_prov = df_prov.sort_values('Luas (kha)', ascending=False\n",
    "                             ).reset_index(drop=True).drop(0).reset_index(drop=True)\n",
    "df_prov"
   ]
  },
  {
   "cell_type": "markdown",
   "id": "8972e443",
   "metadata": {},
   "source": [
    "# EDA "
   ]
  },
  {
   "cell_type": "code",
   "execution_count": 6,
   "id": "97029482",
   "metadata": {
    "ExecuteTime": {
     "end_time": "2023-09-14T05:18:22.607907Z",
     "start_time": "2023-09-14T05:18:22.436503Z"
    }
   },
   "outputs": [
    {
     "data": {
      "text/html": [
       "<div>\n",
       "<style scoped>\n",
       "    .dataframe tbody tr th:only-of-type {\n",
       "        vertical-align: middle;\n",
       "    }\n",
       "\n",
       "    .dataframe tbody tr th {\n",
       "        vertical-align: top;\n",
       "    }\n",
       "\n",
       "    .dataframe thead th {\n",
       "        text-align: right;\n",
       "    }\n",
       "</style>\n",
       "<table border=\"1\" class=\"dataframe\">\n",
       "  <thead>\n",
       "    <tr style=\"text-align: right;\">\n",
       "      <th></th>\n",
       "      <th>Year</th>\n",
       "      <th>Produksi_t</th>\n",
       "      <th>Luas_ha</th>\n",
       "    </tr>\n",
       "  </thead>\n",
       "  <tbody>\n",
       "    <tr>\n",
       "      <th>count</th>\n",
       "      <td>13724.000000</td>\n",
       "      <td>1.372400e+04</td>\n",
       "      <td>1.372400e+04</td>\n",
       "    </tr>\n",
       "    <tr>\n",
       "      <th>mean</th>\n",
       "      <td>2010.071918</td>\n",
       "      <td>3.700546e+05</td>\n",
       "      <td>3.231621e+05</td>\n",
       "    </tr>\n",
       "    <tr>\n",
       "      <th>std</th>\n",
       "      <td>6.023636</td>\n",
       "      <td>2.767361e+06</td>\n",
       "      <td>1.574368e+06</td>\n",
       "    </tr>\n",
       "    <tr>\n",
       "      <th>min</th>\n",
       "      <td>2000.000000</td>\n",
       "      <td>0.000000e+00</td>\n",
       "      <td>0.000000e+00</td>\n",
       "    </tr>\n",
       "    <tr>\n",
       "      <th>25%</th>\n",
       "      <td>2005.000000</td>\n",
       "      <td>7.618400e+02</td>\n",
       "      <td>1.430000e+02</td>\n",
       "    </tr>\n",
       "    <tr>\n",
       "      <th>50%</th>\n",
       "      <td>2010.000000</td>\n",
       "      <td>8.016240e+03</td>\n",
       "      <td>9.178500e+03</td>\n",
       "    </tr>\n",
       "    <tr>\n",
       "      <th>75%</th>\n",
       "      <td>2015.000000</td>\n",
       "      <td>5.437153e+04</td>\n",
       "      <td>7.823400e+04</td>\n",
       "    </tr>\n",
       "    <tr>\n",
       "      <th>max</th>\n",
       "      <td>2020.000000</td>\n",
       "      <td>9.424049e+07</td>\n",
       "      <td>3.718817e+07</td>\n",
       "    </tr>\n",
       "  </tbody>\n",
       "</table>\n",
       "</div>"
      ],
      "text/plain": [
       "               Year    Produksi_t       Luas_ha\n",
       "count  13724.000000  1.372400e+04  1.372400e+04\n",
       "mean    2010.071918  3.700546e+05  3.231621e+05\n",
       "std        6.023636  2.767361e+06  1.574368e+06\n",
       "min     2000.000000  0.000000e+00  0.000000e+00\n",
       "25%     2005.000000  7.618400e+02  1.430000e+02\n",
       "50%     2010.000000  8.016240e+03  9.178500e+03\n",
       "75%     2015.000000  5.437153e+04  7.823400e+04\n",
       "max     2020.000000  9.424049e+07  3.718817e+07"
      ]
     },
     "execution_count": 6,
     "metadata": {},
     "output_type": "execute_result"
    }
   ],
   "source": [
    "df.describe()"
   ]
  },
  {
   "cell_type": "code",
   "execution_count": 7,
   "id": "19c90c98",
   "metadata": {
    "ExecuteTime": {
     "end_time": "2023-09-14T05:18:22.712005Z",
     "start_time": "2023-09-14T05:18:22.614702Z"
    }
   },
   "outputs": [
    {
     "name": "stdout",
     "output_type": "stream",
     "text": [
      "<class 'pandas.core.frame.DataFrame'>\n",
      "RangeIndex: 13724 entries, 0 to 13723\n",
      "Data columns (total 6 columns):\n",
      " #   Column      Non-Null Count  Dtype  \n",
      "---  ------      --------------  -----  \n",
      " 0   Year        13724 non-null  int64  \n",
      " 1   Area        13724 non-null  object \n",
      " 2   Code        13676 non-null  object \n",
      " 3   Item        13724 non-null  object \n",
      " 4   Produksi_t  13724 non-null  float64\n",
      " 5   Luas_ha     13724 non-null  int64  \n",
      "dtypes: float64(1), int64(2), object(3)\n",
      "memory usage: 643.4+ KB\n"
     ]
    }
   ],
   "source": [
    "df.info()"
   ]
  },
  {
   "cell_type": "code",
   "execution_count": 8,
   "id": "45ff11ba",
   "metadata": {
    "ExecuteTime": {
     "end_time": "2023-09-14T05:18:22.792786Z",
     "start_time": "2023-09-14T05:18:22.718995Z"
    }
   },
   "outputs": [],
   "source": [
    "df['Produksi_t'] = df['Produksi_t'].astype(int) "
   ]
  },
  {
   "cell_type": "code",
   "execution_count": 9,
   "id": "22d7ed5e",
   "metadata": {
    "ExecuteTime": {
     "end_time": "2023-09-14T05:18:22.952355Z",
     "start_time": "2023-09-14T05:18:22.800161Z"
    }
   },
   "outputs": [
    {
     "name": "stdout",
     "output_type": "stream",
     "text": [
      "<class 'pandas.core.frame.DataFrame'>\n",
      "RangeIndex: 13724 entries, 0 to 13723\n",
      "Data columns (total 6 columns):\n",
      " #   Column      Non-Null Count  Dtype \n",
      "---  ------      --------------  ----- \n",
      " 0   Year        13724 non-null  int64 \n",
      " 1   Area        13724 non-null  object\n",
      " 2   Code        13676 non-null  object\n",
      " 3   Item        13724 non-null  object\n",
      " 4   Produksi_t  13724 non-null  int64 \n",
      " 5   Luas_ha     13724 non-null  int64 \n",
      "dtypes: int64(3), object(3)\n",
      "memory usage: 643.4+ KB\n"
     ]
    }
   ],
   "source": [
    "df.info()"
   ]
  },
  {
   "cell_type": "code",
   "execution_count": 10,
   "id": "093d5481",
   "metadata": {
    "ExecuteTime": {
     "end_time": "2023-09-14T05:18:23.095233Z",
     "start_time": "2023-09-14T05:18:22.966045Z"
    }
   },
   "outputs": [
    {
     "data": {
      "text/html": [
       "<div>\n",
       "<style scoped>\n",
       "    .dataframe tbody tr th:only-of-type {\n",
       "        vertical-align: middle;\n",
       "    }\n",
       "\n",
       "    .dataframe tbody tr th {\n",
       "        vertical-align: top;\n",
       "    }\n",
       "\n",
       "    .dataframe thead th {\n",
       "        text-align: right;\n",
       "    }\n",
       "</style>\n",
       "<table border=\"1\" class=\"dataframe\">\n",
       "  <thead>\n",
       "    <tr style=\"text-align: right;\">\n",
       "      <th></th>\n",
       "      <th>Year</th>\n",
       "      <th>Produksi_t</th>\n",
       "      <th>Luas_ha</th>\n",
       "    </tr>\n",
       "  </thead>\n",
       "  <tbody>\n",
       "    <tr>\n",
       "      <th>Year</th>\n",
       "      <td>1.000000</td>\n",
       "      <td>0.033404</td>\n",
       "      <td>0.025853</td>\n",
       "    </tr>\n",
       "    <tr>\n",
       "      <th>Produksi_t</th>\n",
       "      <td>0.033404</td>\n",
       "      <td>1.000000</td>\n",
       "      <td>0.566241</td>\n",
       "    </tr>\n",
       "    <tr>\n",
       "      <th>Luas_ha</th>\n",
       "      <td>0.025853</td>\n",
       "      <td>0.566241</td>\n",
       "      <td>1.000000</td>\n",
       "    </tr>\n",
       "  </tbody>\n",
       "</table>\n",
       "</div>"
      ],
      "text/plain": [
       "                Year  Produksi_t   Luas_ha\n",
       "Year        1.000000    0.033404  0.025853\n",
       "Produksi_t  0.033404    1.000000  0.566241\n",
       "Luas_ha     0.025853    0.566241  1.000000"
      ]
     },
     "execution_count": 10,
     "metadata": {},
     "output_type": "execute_result"
    }
   ],
   "source": [
    "df[['Year', 'Produksi_t', 'Luas_ha']].corr()"
   ]
  },
  {
   "cell_type": "markdown",
   "id": "577c6d4d",
   "metadata": {},
   "source": [
    "## Kolom Year"
   ]
  },
  {
   "cell_type": "code",
   "execution_count": 11,
   "id": "1a431c41",
   "metadata": {
    "ExecuteTime": {
     "end_time": "2023-09-14T05:18:23.255895Z",
     "start_time": "2023-09-14T05:18:23.114787Z"
    }
   },
   "outputs": [
    {
     "data": {
      "text/html": [
       "<div>\n",
       "<style scoped>\n",
       "    .dataframe tbody tr th:only-of-type {\n",
       "        vertical-align: middle;\n",
       "    }\n",
       "\n",
       "    .dataframe tbody tr th {\n",
       "        vertical-align: top;\n",
       "    }\n",
       "\n",
       "    .dataframe thead th {\n",
       "        text-align: right;\n",
       "    }\n",
       "</style>\n",
       "<table border=\"1\" class=\"dataframe\">\n",
       "  <thead>\n",
       "    <tr style=\"text-align: right;\">\n",
       "      <th></th>\n",
       "      <th>Year</th>\n",
       "      <th>Item</th>\n",
       "      <th>Produksi_t</th>\n",
       "      <th>Luas_ha</th>\n",
       "    </tr>\n",
       "  </thead>\n",
       "  <tbody>\n",
       "    <tr>\n",
       "      <th>0</th>\n",
       "      <td>2000</td>\n",
       "      <td>Coconut oil</td>\n",
       "      <td>6401650</td>\n",
       "      <td>10018929</td>\n",
       "    </tr>\n",
       "    <tr>\n",
       "      <th>1</th>\n",
       "      <td>2000</td>\n",
       "      <td>Cottonseed oil</td>\n",
       "      <td>5789142</td>\n",
       "      <td>24644589</td>\n",
       "    </tr>\n",
       "    <tr>\n",
       "      <th>2</th>\n",
       "      <td>2000</td>\n",
       "      <td>Groundnut oil</td>\n",
       "      <td>9753992</td>\n",
       "      <td>21528364</td>\n",
       "    </tr>\n",
       "    <tr>\n",
       "      <th>3</th>\n",
       "      <td>2000</td>\n",
       "      <td>Linseed oil</td>\n",
       "      <td>978177</td>\n",
       "      <td>2205413</td>\n",
       "    </tr>\n",
       "    <tr>\n",
       "      <th>4</th>\n",
       "      <td>2000</td>\n",
       "      <td>Olive oil</td>\n",
       "      <td>4384209</td>\n",
       "      <td>7193453</td>\n",
       "    </tr>\n",
       "    <tr>\n",
       "      <th>...</th>\n",
       "      <td>...</td>\n",
       "      <td>...</td>\n",
       "      <td>...</td>\n",
       "      <td>...</td>\n",
       "    </tr>\n",
       "    <tr>\n",
       "      <th>226</th>\n",
       "      <td>2020</td>\n",
       "      <td>Palm oil</td>\n",
       "      <td>150917000</td>\n",
       "      <td>28196491</td>\n",
       "    </tr>\n",
       "    <tr>\n",
       "      <th>227</th>\n",
       "      <td>2020</td>\n",
       "      <td>Rapeseed oil</td>\n",
       "      <td>44871663</td>\n",
       "      <td>32060459</td>\n",
       "    </tr>\n",
       "    <tr>\n",
       "      <th>228</th>\n",
       "      <td>2020</td>\n",
       "      <td>Safflower-seed oil</td>\n",
       "      <td>92421</td>\n",
       "      <td>486895</td>\n",
       "    </tr>\n",
       "    <tr>\n",
       "      <th>229</th>\n",
       "      <td>2020</td>\n",
       "      <td>Sesame oil</td>\n",
       "      <td>1805820</td>\n",
       "      <td>11799437</td>\n",
       "    </tr>\n",
       "    <tr>\n",
       "      <th>230</th>\n",
       "      <td>2020</td>\n",
       "      <td>Sunflower-seed oil</td>\n",
       "      <td>24663754</td>\n",
       "      <td>16260190</td>\n",
       "    </tr>\n",
       "  </tbody>\n",
       "</table>\n",
       "<p>231 rows × 4 columns</p>\n",
       "</div>"
      ],
      "text/plain": [
       "     Year                Item  Produksi_t   Luas_ha\n",
       "0    2000         Coconut oil     6401650  10018929\n",
       "1    2000      Cottonseed oil     5789142  24644589\n",
       "2    2000       Groundnut oil     9753992  21528364\n",
       "3    2000         Linseed oil      978177   2205413\n",
       "4    2000           Olive oil     4384209   7193453\n",
       "..    ...                 ...         ...       ...\n",
       "226  2020            Palm oil   150917000  28196491\n",
       "227  2020        Rapeseed oil    44871663  32060459\n",
       "228  2020  Safflower-seed oil       92421    486895\n",
       "229  2020          Sesame oil     1805820  11799437\n",
       "230  2020  Sunflower-seed oil    24663754  16260190\n",
       "\n",
       "[231 rows x 4 columns]"
      ]
     },
     "execution_count": 11,
     "metadata": {},
     "output_type": "execute_result"
    }
   ],
   "source": [
    "df_year = df[['Year', 'Item', 'Produksi_t', 'Luas_ha']].groupby(['Year', 'Item']).agg({\n",
    "    'Produksi_t':'sum',\n",
    "    'Luas_ha':'sum'\n",
    "}).sort_values('Year').reset_index()\n",
    "df_year"
   ]
  },
  {
   "cell_type": "code",
   "execution_count": 12,
   "id": "e18d22d9",
   "metadata": {
    "ExecuteTime": {
     "end_time": "2023-09-14T05:18:23.450577Z",
     "start_time": "2023-09-14T05:18:23.263432Z"
    }
   },
   "outputs": [
    {
     "data": {
      "text/html": [
       "<div>\n",
       "<style scoped>\n",
       "    .dataframe tbody tr th:only-of-type {\n",
       "        vertical-align: middle;\n",
       "    }\n",
       "\n",
       "    .dataframe tbody tr th {\n",
       "        vertical-align: top;\n",
       "    }\n",
       "\n",
       "    .dataframe thead th {\n",
       "        text-align: right;\n",
       "    }\n",
       "</style>\n",
       "<table border=\"1\" class=\"dataframe\">\n",
       "  <thead>\n",
       "    <tr style=\"text-align: right;\">\n",
       "      <th></th>\n",
       "      <th>Year</th>\n",
       "      <th>Produksi_t</th>\n",
       "      <th>Luas_ha</th>\n",
       "    </tr>\n",
       "  </thead>\n",
       "  <tbody>\n",
       "    <tr>\n",
       "      <th>0</th>\n",
       "      <td>2000</td>\n",
       "      <td>143411699</td>\n",
       "      <td>166150603</td>\n",
       "    </tr>\n",
       "    <tr>\n",
       "      <th>1</th>\n",
       "      <td>2001</td>\n",
       "      <td>150709804</td>\n",
       "      <td>165001728</td>\n",
       "    </tr>\n",
       "    <tr>\n",
       "      <th>2</th>\n",
       "      <td>2002</td>\n",
       "      <td>155213315</td>\n",
       "      <td>165327135</td>\n",
       "    </tr>\n",
       "    <tr>\n",
       "      <th>3</th>\n",
       "      <td>2003</td>\n",
       "      <td>168059821</td>\n",
       "      <td>175546951</td>\n",
       "    </tr>\n",
       "    <tr>\n",
       "      <th>4</th>\n",
       "      <td>2004</td>\n",
       "      <td>175267201</td>\n",
       "      <td>187627528</td>\n",
       "    </tr>\n",
       "    <tr>\n",
       "      <th>5</th>\n",
       "      <td>2005</td>\n",
       "      <td>188475232</td>\n",
       "      <td>193157502</td>\n",
       "    </tr>\n",
       "    <tr>\n",
       "      <th>6</th>\n",
       "      <td>2006</td>\n",
       "      <td>205904825</td>\n",
       "      <td>193011157</td>\n",
       "    </tr>\n",
       "    <tr>\n",
       "      <th>7</th>\n",
       "      <td>2007</td>\n",
       "      <td>212566863</td>\n",
       "      <td>193340236</td>\n",
       "    </tr>\n",
       "    <tr>\n",
       "      <th>8</th>\n",
       "      <td>2008</td>\n",
       "      <td>217405229</td>\n",
       "      <td>199992939</td>\n",
       "    </tr>\n",
       "    <tr>\n",
       "      <th>9</th>\n",
       "      <td>2009</td>\n",
       "      <td>226181889</td>\n",
       "      <td>203819075</td>\n",
       "    </tr>\n",
       "    <tr>\n",
       "      <th>10</th>\n",
       "      <td>2010</td>\n",
       "      <td>243618554</td>\n",
       "      <td>211587652</td>\n",
       "    </tr>\n",
       "    <tr>\n",
       "      <th>11</th>\n",
       "      <td>2011</td>\n",
       "      <td>255076290</td>\n",
       "      <td>218927799</td>\n",
       "    </tr>\n",
       "    <tr>\n",
       "      <th>12</th>\n",
       "      <td>2012</td>\n",
       "      <td>264117368</td>\n",
       "      <td>221417820</td>\n",
       "    </tr>\n",
       "    <tr>\n",
       "      <th>13</th>\n",
       "      <td>2013</td>\n",
       "      <td>268373167</td>\n",
       "      <td>231304982</td>\n",
       "    </tr>\n",
       "    <tr>\n",
       "      <th>14</th>\n",
       "      <td>2014</td>\n",
       "      <td>282264654</td>\n",
       "      <td>235414329</td>\n",
       "    </tr>\n",
       "    <tr>\n",
       "      <th>15</th>\n",
       "      <td>2015</td>\n",
       "      <td>294558658</td>\n",
       "      <td>233435513</td>\n",
       "    </tr>\n",
       "    <tr>\n",
       "      <th>16</th>\n",
       "      <td>2016</td>\n",
       "      <td>289946576</td>\n",
       "      <td>235667133</td>\n",
       "    </tr>\n",
       "    <tr>\n",
       "      <th>17</th>\n",
       "      <td>2017</td>\n",
       "      <td>322169313</td>\n",
       "      <td>248102115</td>\n",
       "    </tr>\n",
       "    <tr>\n",
       "      <th>18</th>\n",
       "      <td>2018</td>\n",
       "      <td>329624635</td>\n",
       "      <td>249536981</td>\n",
       "    </tr>\n",
       "    <tr>\n",
       "      <th>19</th>\n",
       "      <td>2019</td>\n",
       "      <td>347376127</td>\n",
       "      <td>249670874</td>\n",
       "    </tr>\n",
       "    <tr>\n",
       "      <th>20</th>\n",
       "      <td>2020</td>\n",
       "      <td>338306041</td>\n",
       "      <td>257036807</td>\n",
       "    </tr>\n",
       "  </tbody>\n",
       "</table>\n",
       "</div>"
      ],
      "text/plain": [
       "    Year  Produksi_t    Luas_ha\n",
       "0   2000   143411699  166150603\n",
       "1   2001   150709804  165001728\n",
       "2   2002   155213315  165327135\n",
       "3   2003   168059821  175546951\n",
       "4   2004   175267201  187627528\n",
       "5   2005   188475232  193157502\n",
       "6   2006   205904825  193011157\n",
       "7   2007   212566863  193340236\n",
       "8   2008   217405229  199992939\n",
       "9   2009   226181889  203819075\n",
       "10  2010   243618554  211587652\n",
       "11  2011   255076290  218927799\n",
       "12  2012   264117368  221417820\n",
       "13  2013   268373167  231304982\n",
       "14  2014   282264654  235414329\n",
       "15  2015   294558658  233435513\n",
       "16  2016   289946576  235667133\n",
       "17  2017   322169313  248102115\n",
       "18  2018   329624635  249536981\n",
       "19  2019   347376127  249670874\n",
       "20  2020   338306041  257036807"
      ]
     },
     "execution_count": 12,
     "metadata": {},
     "output_type": "execute_result"
    }
   ],
   "source": [
    "df_year_sum = df[['Year', 'Item', 'Produksi_t', 'Luas_ha']].groupby(['Year']).agg({\n",
    "    'Produksi_t':'sum',\n",
    "    'Luas_ha':'sum'\n",
    "}).sort_values('Year').reset_index()\n",
    "df_year_sum"
   ]
  },
  {
   "cell_type": "markdown",
   "id": "5a86cc9f",
   "metadata": {},
   "source": [
    "## Kolom Item (2020)"
   ]
  },
  {
   "cell_type": "code",
   "execution_count": 13,
   "id": "6deba5f3",
   "metadata": {
    "ExecuteTime": {
     "end_time": "2023-09-14T05:18:23.595603Z",
     "start_time": "2023-09-14T05:18:23.455431Z"
    }
   },
   "outputs": [
    {
     "data": {
      "text/html": [
       "<div>\n",
       "<style scoped>\n",
       "    .dataframe tbody tr th:only-of-type {\n",
       "        vertical-align: middle;\n",
       "    }\n",
       "\n",
       "    .dataframe tbody tr th {\n",
       "        vertical-align: top;\n",
       "    }\n",
       "\n",
       "    .dataframe thead th {\n",
       "        text-align: right;\n",
       "    }\n",
       "</style>\n",
       "<table border=\"1\" class=\"dataframe\">\n",
       "  <thead>\n",
       "    <tr style=\"text-align: right;\">\n",
       "      <th></th>\n",
       "      <th>Year</th>\n",
       "      <th>Area</th>\n",
       "      <th>Code</th>\n",
       "      <th>Item</th>\n",
       "      <th>Produksi_t</th>\n",
       "      <th>Luas_ha</th>\n",
       "    </tr>\n",
       "  </thead>\n",
       "  <tbody>\n",
       "    <tr>\n",
       "      <th>29</th>\n",
       "      <td>2020</td>\n",
       "      <td>Angola</td>\n",
       "      <td>AGO</td>\n",
       "      <td>Palm oil</td>\n",
       "      <td>114000</td>\n",
       "      <td>23327</td>\n",
       "    </tr>\n",
       "    <tr>\n",
       "      <th>65</th>\n",
       "      <td>2020</td>\n",
       "      <td>Benin</td>\n",
       "      <td>BEN</td>\n",
       "      <td>Palm oil</td>\n",
       "      <td>160000</td>\n",
       "      <td>34946</td>\n",
       "    </tr>\n",
       "    <tr>\n",
       "      <th>86</th>\n",
       "      <td>2020</td>\n",
       "      <td>Albania</td>\n",
       "      <td>ALB</td>\n",
       "      <td>Soybean oil</td>\n",
       "      <td>133</td>\n",
       "      <td>171</td>\n",
       "    </tr>\n",
       "    <tr>\n",
       "      <th>89</th>\n",
       "      <td>2020</td>\n",
       "      <td>Algeria</td>\n",
       "      <td>DZA</td>\n",
       "      <td>Soybean oil</td>\n",
       "      <td>203400</td>\n",
       "      <td>0</td>\n",
       "    </tr>\n",
       "    <tr>\n",
       "      <th>110</th>\n",
       "      <td>2020</td>\n",
       "      <td>Argentina</td>\n",
       "      <td>ARG</td>\n",
       "      <td>Soybean oil</td>\n",
       "      <td>14320484</td>\n",
       "      <td>16721424</td>\n",
       "    </tr>\n",
       "    <tr>\n",
       "      <th>...</th>\n",
       "      <td>...</td>\n",
       "      <td>...</td>\n",
       "      <td>...</td>\n",
       "      <td>...</td>\n",
       "      <td>...</td>\n",
       "      <td>...</td>\n",
       "    </tr>\n",
       "    <tr>\n",
       "      <th>13633</th>\n",
       "      <td>2020</td>\n",
       "      <td>Zambia</td>\n",
       "      <td>ZMB</td>\n",
       "      <td>Groundnut oil</td>\n",
       "      <td>2850</td>\n",
       "      <td>192246</td>\n",
       "    </tr>\n",
       "    <tr>\n",
       "      <th>13654</th>\n",
       "      <td>2020</td>\n",
       "      <td>Zimbabwe</td>\n",
       "      <td>ZWE</td>\n",
       "      <td>Groundnut oil</td>\n",
       "      <td>8800</td>\n",
       "      <td>153346</td>\n",
       "    </tr>\n",
       "    <tr>\n",
       "      <th>13675</th>\n",
       "      <td>2020</td>\n",
       "      <td>Vanuatu</td>\n",
       "      <td>VUT</td>\n",
       "      <td>Coconut oil</td>\n",
       "      <td>3315</td>\n",
       "      <td>113145</td>\n",
       "    </tr>\n",
       "    <tr>\n",
       "      <th>13704</th>\n",
       "      <td>2020</td>\n",
       "      <td>Yemen</td>\n",
       "      <td>YEM</td>\n",
       "      <td>Sesame oil</td>\n",
       "      <td>7142</td>\n",
       "      <td>21046</td>\n",
       "    </tr>\n",
       "    <tr>\n",
       "      <th>13715</th>\n",
       "      <td>2020</td>\n",
       "      <td>Uzbekistan</td>\n",
       "      <td>UZB</td>\n",
       "      <td>Safflower-seed oil</td>\n",
       "      <td>2725</td>\n",
       "      <td>18324</td>\n",
       "    </tr>\n",
       "  </tbody>\n",
       "</table>\n",
       "<p>623 rows × 6 columns</p>\n",
       "</div>"
      ],
      "text/plain": [
       "       Year        Area Code                Item  Produksi_t   Luas_ha\n",
       "29     2020      Angola  AGO            Palm oil      114000     23327\n",
       "65     2020       Benin  BEN            Palm oil      160000     34946\n",
       "86     2020     Albania  ALB         Soybean oil         133       171\n",
       "89     2020     Algeria  DZA         Soybean oil      203400         0\n",
       "110    2020   Argentina  ARG         Soybean oil    14320484  16721424\n",
       "...     ...         ...  ...                 ...         ...       ...\n",
       "13633  2020      Zambia  ZMB       Groundnut oil        2850    192246\n",
       "13654  2020    Zimbabwe  ZWE       Groundnut oil        8800    153346\n",
       "13675  2020     Vanuatu  VUT         Coconut oil        3315    113145\n",
       "13704  2020       Yemen  YEM          Sesame oil        7142     21046\n",
       "13715  2020  Uzbekistan  UZB  Safflower-seed oil        2725     18324\n",
       "\n",
       "[623 rows x 6 columns]"
      ]
     },
     "execution_count": 13,
     "metadata": {},
     "output_type": "execute_result"
    }
   ],
   "source": [
    "# data tahun 2020\n",
    "\n",
    "df_2020 = df[df['Year'] == 2020]\n",
    "df_2020"
   ]
  },
  {
   "cell_type": "code",
   "execution_count": 14,
   "id": "8f201795",
   "metadata": {
    "ExecuteTime": {
     "end_time": "2023-09-14T05:18:23.730027Z",
     "start_time": "2023-09-14T05:18:23.607357Z"
    }
   },
   "outputs": [
    {
     "data": {
      "text/html": [
       "<div>\n",
       "<style scoped>\n",
       "    .dataframe tbody tr th:only-of-type {\n",
       "        vertical-align: middle;\n",
       "    }\n",
       "\n",
       "    .dataframe tbody tr th {\n",
       "        vertical-align: top;\n",
       "    }\n",
       "\n",
       "    .dataframe thead th {\n",
       "        text-align: right;\n",
       "    }\n",
       "</style>\n",
       "<table border=\"1\" class=\"dataframe\">\n",
       "  <thead>\n",
       "    <tr style=\"text-align: right;\">\n",
       "      <th></th>\n",
       "      <th>Item</th>\n",
       "      <th>Produksi_t</th>\n",
       "      <th>Luas_ha</th>\n",
       "    </tr>\n",
       "  </thead>\n",
       "  <tbody>\n",
       "    <tr>\n",
       "      <th>0</th>\n",
       "      <td>Coconut oil</td>\n",
       "      <td>130021627</td>\n",
       "      <td>221703661</td>\n",
       "    </tr>\n",
       "    <tr>\n",
       "      <th>1</th>\n",
       "      <td>Cottonseed oil</td>\n",
       "      <td>157586730</td>\n",
       "      <td>569674463</td>\n",
       "    </tr>\n",
       "    <tr>\n",
       "      <th>2</th>\n",
       "      <td>Groundnut oil</td>\n",
       "      <td>205662819</td>\n",
       "      <td>491121105</td>\n",
       "    </tr>\n",
       "    <tr>\n",
       "      <th>3</th>\n",
       "      <td>Linseed oil</td>\n",
       "      <td>20938987</td>\n",
       "      <td>42013091</td>\n",
       "    </tr>\n",
       "    <tr>\n",
       "      <th>4</th>\n",
       "      <td>Olive oil</td>\n",
       "      <td>110222982</td>\n",
       "      <td>175868298</td>\n",
       "    </tr>\n",
       "    <tr>\n",
       "      <th>5</th>\n",
       "      <td>Palm oil</td>\n",
       "      <td>2003106808</td>\n",
       "      <td>389203859</td>\n",
       "    </tr>\n",
       "    <tr>\n",
       "      <th>6</th>\n",
       "      <td>Rapeseed oil</td>\n",
       "      <td>773554178</td>\n",
       "      <td>606948538</td>\n",
       "    </tr>\n",
       "    <tr>\n",
       "      <th>7</th>\n",
       "      <td>Safflower-seed oil</td>\n",
       "      <td>3943120</td>\n",
       "      <td>13159978</td>\n",
       "    </tr>\n",
       "    <tr>\n",
       "      <th>8</th>\n",
       "      <td>Sesame oil</td>\n",
       "      <td>36382749</td>\n",
       "      <td>159428698</td>\n",
       "    </tr>\n",
       "    <tr>\n",
       "      <th>9</th>\n",
       "      <td>Soybean oil</td>\n",
       "      <td>1263654034</td>\n",
       "      <td>1441047925</td>\n",
       "    </tr>\n",
       "    <tr>\n",
       "      <th>10</th>\n",
       "      <td>Sunflower-seed oil</td>\n",
       "      <td>373553227</td>\n",
       "      <td>324907243</td>\n",
       "    </tr>\n",
       "  </tbody>\n",
       "</table>\n",
       "</div>"
      ],
      "text/plain": [
       "                  Item  Produksi_t     Luas_ha\n",
       "0          Coconut oil   130021627   221703661\n",
       "1       Cottonseed oil   157586730   569674463\n",
       "2        Groundnut oil   205662819   491121105\n",
       "3          Linseed oil    20938987    42013091\n",
       "4            Olive oil   110222982   175868298\n",
       "5             Palm oil  2003106808   389203859\n",
       "6         Rapeseed oil   773554178   606948538\n",
       "7   Safflower-seed oil     3943120    13159978\n",
       "8           Sesame oil    36382749   159428698\n",
       "9          Soybean oil  1263654034  1441047925\n",
       "10  Sunflower-seed oil   373553227   324907243"
      ]
     },
     "execution_count": 14,
     "metadata": {},
     "output_type": "execute_result"
    }
   ],
   "source": [
    "df_2020_sum = df.groupby(by=['Item']).agg({\n",
    "    'Produksi_t' : 'sum',\n",
    "    'Luas_ha' : 'sum'\n",
    "}).reset_index()\n",
    "\n",
    "df_2020_sum"
   ]
  },
  {
   "cell_type": "code",
   "execution_count": 15,
   "id": "901f507b",
   "metadata": {
    "ExecuteTime": {
     "end_time": "2023-09-14T05:18:23.873010Z",
     "start_time": "2023-09-14T05:18:23.742779Z"
    }
   },
   "outputs": [
    {
     "data": {
      "text/html": [
       "<div>\n",
       "<style scoped>\n",
       "    .dataframe tbody tr th:only-of-type {\n",
       "        vertical-align: middle;\n",
       "    }\n",
       "\n",
       "    .dataframe tbody tr th {\n",
       "        vertical-align: top;\n",
       "    }\n",
       "\n",
       "    .dataframe thead th {\n",
       "        text-align: right;\n",
       "    }\n",
       "</style>\n",
       "<table border=\"1\" class=\"dataframe\">\n",
       "  <thead>\n",
       "    <tr style=\"text-align: right;\">\n",
       "      <th></th>\n",
       "      <th>Item</th>\n",
       "      <th>Persentase Produksi</th>\n",
       "      <th>Persentase Luas</th>\n",
       "    </tr>\n",
       "  </thead>\n",
       "  <tbody>\n",
       "    <tr>\n",
       "      <th>0</th>\n",
       "      <td>Coconut oil</td>\n",
       "      <td>2.56</td>\n",
       "      <td>5.00</td>\n",
       "    </tr>\n",
       "    <tr>\n",
       "      <th>1</th>\n",
       "      <td>Cottonseed oil</td>\n",
       "      <td>3.10</td>\n",
       "      <td>12.84</td>\n",
       "    </tr>\n",
       "    <tr>\n",
       "      <th>2</th>\n",
       "      <td>Groundnut oil</td>\n",
       "      <td>4.05</td>\n",
       "      <td>11.07</td>\n",
       "    </tr>\n",
       "    <tr>\n",
       "      <th>3</th>\n",
       "      <td>Linseed oil</td>\n",
       "      <td>0.41</td>\n",
       "      <td>0.95</td>\n",
       "    </tr>\n",
       "    <tr>\n",
       "      <th>4</th>\n",
       "      <td>Olive oil</td>\n",
       "      <td>2.17</td>\n",
       "      <td>3.97</td>\n",
       "    </tr>\n",
       "    <tr>\n",
       "      <th>5</th>\n",
       "      <td>Palm oil</td>\n",
       "      <td>39.44</td>\n",
       "      <td>8.78</td>\n",
       "    </tr>\n",
       "    <tr>\n",
       "      <th>6</th>\n",
       "      <td>Rapeseed oil</td>\n",
       "      <td>15.23</td>\n",
       "      <td>13.69</td>\n",
       "    </tr>\n",
       "    <tr>\n",
       "      <th>7</th>\n",
       "      <td>Safflower-seed oil</td>\n",
       "      <td>0.08</td>\n",
       "      <td>0.30</td>\n",
       "    </tr>\n",
       "    <tr>\n",
       "      <th>8</th>\n",
       "      <td>Sesame oil</td>\n",
       "      <td>0.72</td>\n",
       "      <td>3.59</td>\n",
       "    </tr>\n",
       "    <tr>\n",
       "      <th>9</th>\n",
       "      <td>Soybean oil</td>\n",
       "      <td>24.88</td>\n",
       "      <td>32.49</td>\n",
       "    </tr>\n",
       "    <tr>\n",
       "      <th>10</th>\n",
       "      <td>Sunflower-seed oil</td>\n",
       "      <td>7.36</td>\n",
       "      <td>7.33</td>\n",
       "    </tr>\n",
       "  </tbody>\n",
       "</table>\n",
       "</div>"
      ],
      "text/plain": [
       "                  Item  Persentase Produksi  Persentase Luas\n",
       "0          Coconut oil                 2.56             5.00\n",
       "1       Cottonseed oil                 3.10            12.84\n",
       "2        Groundnut oil                 4.05            11.07\n",
       "3          Linseed oil                 0.41             0.95\n",
       "4            Olive oil                 2.17             3.97\n",
       "5             Palm oil                39.44             8.78\n",
       "6         Rapeseed oil                15.23            13.69\n",
       "7   Safflower-seed oil                 0.08             0.30\n",
       "8           Sesame oil                 0.72             3.59\n",
       "9          Soybean oil                24.88            32.49\n",
       "10  Sunflower-seed oil                 7.36             7.33"
      ]
     },
     "execution_count": 15,
     "metadata": {},
     "output_type": "execute_result"
    }
   ],
   "source": [
    "# dalam bentuk persentase\n",
    "\n",
    "pro_tot = df_2020_sum['Produksi_t'].sum()\n",
    "lu_tot = df_2020_sum['Luas_ha'].sum()\n",
    "persentase1 = list()\n",
    "persentase2 = list()\n",
    "\n",
    "for i in range(df_2020_sum.shape[0]):\n",
    "    pro_pct = (df_2020_sum['Produksi_t'][i]/pro_tot) * 100\n",
    "    lu_pct = (df_2020_sum['Luas_ha'][i]/lu_tot) * 100\n",
    "    persentase1.append(round(pro_pct,2))\n",
    "    persentase2.append(round(lu_pct,2))\n",
    "\n",
    "df_2020_sum['Persentase Produksi'] = persentase1\n",
    "df_2020_sum['Persentase Luas'] = persentase2\n",
    "\n",
    "df_2020_pct = df_2020_sum[['Item', 'Persentase Produksi', 'Persentase Luas']]\n",
    "df_2020_pct"
   ]
  },
  {
   "cell_type": "markdown",
   "id": "456344c4",
   "metadata": {},
   "source": [
    "## Kolom Area (2020)"
   ]
  },
  {
   "cell_type": "code",
   "execution_count": 16,
   "id": "a12494c0",
   "metadata": {
    "ExecuteTime": {
     "end_time": "2023-09-14T05:18:24.053573Z",
     "start_time": "2023-09-14T05:18:23.877590Z"
    }
   },
   "outputs": [
    {
     "data": {
      "text/html": [
       "<div>\n",
       "<style scoped>\n",
       "    .dataframe tbody tr th:only-of-type {\n",
       "        vertical-align: middle;\n",
       "    }\n",
       "\n",
       "    .dataframe tbody tr th {\n",
       "        vertical-align: top;\n",
       "    }\n",
       "\n",
       "    .dataframe thead th {\n",
       "        text-align: right;\n",
       "    }\n",
       "</style>\n",
       "<table border=\"1\" class=\"dataframe\">\n",
       "  <thead>\n",
       "    <tr style=\"text-align: right;\">\n",
       "      <th></th>\n",
       "      <th>Area</th>\n",
       "      <th>Produksi_t</th>\n",
       "      <th>Luas_ha</th>\n",
       "    </tr>\n",
       "  </thead>\n",
       "  <tbody>\n",
       "    <tr>\n",
       "      <th>0</th>\n",
       "      <td>Indonesia</td>\n",
       "      <td>91566923</td>\n",
       "      <td>17903871</td>\n",
       "    </tr>\n",
       "    <tr>\n",
       "      <th>1</th>\n",
       "      <td>China</td>\n",
       "      <td>47711990</td>\n",
       "      <td>26063147</td>\n",
       "    </tr>\n",
       "    <tr>\n",
       "      <th>2</th>\n",
       "      <td>Malaysia</td>\n",
       "      <td>38671420</td>\n",
       "      <td>5306332</td>\n",
       "    </tr>\n",
       "    <tr>\n",
       "      <th>3</th>\n",
       "      <td>Brazil</td>\n",
       "      <td>21331514</td>\n",
       "      <td>39481471</td>\n",
       "    </tr>\n",
       "    <tr>\n",
       "      <th>4</th>\n",
       "      <td>Argentina</td>\n",
       "      <td>16713641</td>\n",
       "      <td>19204954</td>\n",
       "    </tr>\n",
       "    <tr>\n",
       "      <th>...</th>\n",
       "      <td>...</td>\n",
       "      <td>...</td>\n",
       "      <td>...</td>\n",
       "    </tr>\n",
       "    <tr>\n",
       "      <th>156</th>\n",
       "      <td>Mongolia</td>\n",
       "      <td>36</td>\n",
       "      <td>49994</td>\n",
       "    </tr>\n",
       "    <tr>\n",
       "      <th>157</th>\n",
       "      <td>Seychelles</td>\n",
       "      <td>13</td>\n",
       "      <td>824</td>\n",
       "    </tr>\n",
       "    <tr>\n",
       "      <th>158</th>\n",
       "      <td>Maldives</td>\n",
       "      <td>5</td>\n",
       "      <td>70</td>\n",
       "    </tr>\n",
       "    <tr>\n",
       "      <th>159</th>\n",
       "      <td>Antigua and Barbuda</td>\n",
       "      <td>5</td>\n",
       "      <td>602</td>\n",
       "    </tr>\n",
       "    <tr>\n",
       "      <th>160</th>\n",
       "      <td>Malta</td>\n",
       "      <td>0</td>\n",
       "      <td>0</td>\n",
       "    </tr>\n",
       "  </tbody>\n",
       "</table>\n",
       "<p>161 rows × 3 columns</p>\n",
       "</div>"
      ],
      "text/plain": [
       "                    Area  Produksi_t   Luas_ha\n",
       "0              Indonesia    91566923  17903871\n",
       "1                  China    47711990  26063147\n",
       "2               Malaysia    38671420   5306332\n",
       "3                 Brazil    21331514  39481471\n",
       "4              Argentina    16713641  19204954\n",
       "..                   ...         ...       ...\n",
       "156             Mongolia          36     49994\n",
       "157           Seychelles          13       824\n",
       "158             Maldives           5        70\n",
       "159  Antigua and Barbuda           5       602\n",
       "160                Malta           0         0\n",
       "\n",
       "[161 rows x 3 columns]"
      ]
     },
     "execution_count": 16,
     "metadata": {},
     "output_type": "execute_result"
    }
   ],
   "source": [
    "# Produsen minyak nabati terbesar 2020\n",
    "\n",
    "df_area_2020_sum = df_2020[['Area', 'Produksi_t', 'Luas_ha']].groupby(by=['Area']).agg({\n",
    "    'Produksi_t' : 'sum',\n",
    "    'Luas_ha' : 'sum'\n",
    "}).sort_values('Produksi_t', ascending=False).reset_index()\n",
    "df_area_2020_sum"
   ]
  },
  {
   "cell_type": "code",
   "execution_count": 17,
   "id": "94c650a2",
   "metadata": {
    "ExecuteTime": {
     "end_time": "2023-09-14T05:18:24.189598Z",
     "start_time": "2023-09-14T05:18:24.060513Z"
    }
   },
   "outputs": [],
   "source": [
    "df_area_2020_sum.to_csv('Produksi per Negara.csv')"
   ]
  },
  {
   "cell_type": "code",
   "execution_count": 18,
   "id": "992ea7ff",
   "metadata": {
    "ExecuteTime": {
     "end_time": "2023-09-14T05:18:24.502596Z",
     "start_time": "2023-09-14T05:18:24.200693Z"
    }
   },
   "outputs": [
    {
     "name": "stderr",
     "output_type": "stream",
     "text": [
      "/tmp/ipykernel_10878/348234469.py:3: UserWarning: Boolean Series key will be reindexed to match DataFrame index.\n",
      "  df_area_2020_palm = df_2020[df['Item'] == 'Palm oil']\n"
     ]
    },
    {
     "data": {
      "text/html": [
       "<div>\n",
       "<style scoped>\n",
       "    .dataframe tbody tr th:only-of-type {\n",
       "        vertical-align: middle;\n",
       "    }\n",
       "\n",
       "    .dataframe tbody tr th {\n",
       "        vertical-align: top;\n",
       "    }\n",
       "\n",
       "    .dataframe thead th {\n",
       "        text-align: right;\n",
       "    }\n",
       "</style>\n",
       "<table border=\"1\" class=\"dataframe\">\n",
       "  <thead>\n",
       "    <tr style=\"text-align: right;\">\n",
       "      <th></th>\n",
       "      <th>Area</th>\n",
       "      <th>Produksi_t</th>\n",
       "      <th>Luas_ha</th>\n",
       "    </tr>\n",
       "  </thead>\n",
       "  <tbody>\n",
       "    <tr>\n",
       "      <th>0</th>\n",
       "      <td>Indonesia</td>\n",
       "      <td>89518294</td>\n",
       "      <td>14586597</td>\n",
       "    </tr>\n",
       "    <tr>\n",
       "      <th>1</th>\n",
       "      <td>Malaysia</td>\n",
       "      <td>38281226</td>\n",
       "      <td>5231743</td>\n",
       "    </tr>\n",
       "    <tr>\n",
       "      <th>2</th>\n",
       "      <td>Thailand</td>\n",
       "      <td>5380000</td>\n",
       "      <td>940311</td>\n",
       "    </tr>\n",
       "    <tr>\n",
       "      <th>3</th>\n",
       "      <td>Colombia</td>\n",
       "      <td>3115989</td>\n",
       "      <td>478045</td>\n",
       "    </tr>\n",
       "    <tr>\n",
       "      <th>4</th>\n",
       "      <td>Nigeria</td>\n",
       "      <td>2560000</td>\n",
       "      <td>3878183</td>\n",
       "    </tr>\n",
       "    <tr>\n",
       "      <th>5</th>\n",
       "      <td>Guatemala</td>\n",
       "      <td>1610000</td>\n",
       "      <td>198000</td>\n",
       "    </tr>\n",
       "    <tr>\n",
       "      <th>6</th>\n",
       "      <td>Honduras</td>\n",
       "      <td>1400000</td>\n",
       "      <td>210000</td>\n",
       "    </tr>\n",
       "    <tr>\n",
       "      <th>7</th>\n",
       "      <td>Papua New Guinea</td>\n",
       "      <td>1260000</td>\n",
       "      <td>221621</td>\n",
       "    </tr>\n",
       "    <tr>\n",
       "      <th>8</th>\n",
       "      <td>Brazil</td>\n",
       "      <td>1153526</td>\n",
       "      <td>201702</td>\n",
       "    </tr>\n",
       "    <tr>\n",
       "      <th>9</th>\n",
       "      <td>Côte d'Ivoire</td>\n",
       "      <td>985600</td>\n",
       "      <td>364771</td>\n",
       "    </tr>\n",
       "    <tr>\n",
       "      <th>10</th>\n",
       "      <td>Ecuador</td>\n",
       "      <td>930000</td>\n",
       "      <td>188469</td>\n",
       "    </tr>\n",
       "    <tr>\n",
       "      <th>11</th>\n",
       "      <td>Mexico</td>\n",
       "      <td>598400</td>\n",
       "      <td>114938</td>\n",
       "    </tr>\n",
       "    <tr>\n",
       "      <th>12</th>\n",
       "      <td>Cameroon</td>\n",
       "      <td>580000</td>\n",
       "      <td>221596</td>\n",
       "    </tr>\n",
       "    <tr>\n",
       "      <th>13</th>\n",
       "      <td>Ghana</td>\n",
       "      <td>529714</td>\n",
       "      <td>356176</td>\n",
       "    </tr>\n",
       "    <tr>\n",
       "      <th>14</th>\n",
       "      <td>Costa Rica</td>\n",
       "      <td>520200</td>\n",
       "      <td>75610</td>\n",
       "    </tr>\n",
       "    <tr>\n",
       "      <th>15</th>\n",
       "      <td>Peru</td>\n",
       "      <td>430000</td>\n",
       "      <td>74321</td>\n",
       "    </tr>\n",
       "    <tr>\n",
       "      <th>16</th>\n",
       "      <td>Philippines</td>\n",
       "      <td>280000</td>\n",
       "      <td>63933</td>\n",
       "    </tr>\n",
       "    <tr>\n",
       "      <th>17</th>\n",
       "      <td>Nicaragua</td>\n",
       "      <td>267900</td>\n",
       "      <td>33459</td>\n",
       "    </tr>\n",
       "    <tr>\n",
       "      <th>18</th>\n",
       "      <td>China</td>\n",
       "      <td>225999</td>\n",
       "      <td>50404</td>\n",
       "    </tr>\n",
       "    <tr>\n",
       "      <th>19</th>\n",
       "      <td>Cambodia</td>\n",
       "      <td>170000</td>\n",
       "      <td>46398</td>\n",
       "    </tr>\n",
       "    <tr>\n",
       "      <th>20</th>\n",
       "      <td>Benin</td>\n",
       "      <td>160000</td>\n",
       "      <td>34946</td>\n",
       "    </tr>\n",
       "    <tr>\n",
       "      <th>21</th>\n",
       "      <td>Sierra Leone</td>\n",
       "      <td>150000</td>\n",
       "      <td>46272</td>\n",
       "    </tr>\n",
       "    <tr>\n",
       "      <th>22</th>\n",
       "      <td>Panama</td>\n",
       "      <td>124000</td>\n",
       "      <td>19740</td>\n",
       "    </tr>\n",
       "    <tr>\n",
       "      <th>23</th>\n",
       "      <td>Angola</td>\n",
       "      <td>114000</td>\n",
       "      <td>23327</td>\n",
       "    </tr>\n",
       "    <tr>\n",
       "      <th>24</th>\n",
       "      <td>Dominican Republic</td>\n",
       "      <td>102000</td>\n",
       "      <td>21000</td>\n",
       "    </tr>\n",
       "    <tr>\n",
       "      <th>25</th>\n",
       "      <td>Guinea</td>\n",
       "      <td>100000</td>\n",
       "      <td>332049</td>\n",
       "    </tr>\n",
       "    <tr>\n",
       "      <th>26</th>\n",
       "      <td>Liberia</td>\n",
       "      <td>90000</td>\n",
       "      <td>18808</td>\n",
       "    </tr>\n",
       "    <tr>\n",
       "      <th>27</th>\n",
       "      <td>Solomon Islands</td>\n",
       "      <td>60000</td>\n",
       "      <td>22000</td>\n",
       "    </tr>\n",
       "    <tr>\n",
       "      <th>28</th>\n",
       "      <td>Congo</td>\n",
       "      <td>53852</td>\n",
       "      <td>12290</td>\n",
       "    </tr>\n",
       "    <tr>\n",
       "      <th>29</th>\n",
       "      <td>Togo</td>\n",
       "      <td>44000</td>\n",
       "      <td>65221</td>\n",
       "    </tr>\n",
       "    <tr>\n",
       "      <th>30</th>\n",
       "      <td>Burundi</td>\n",
       "      <td>33753</td>\n",
       "      <td>9113</td>\n",
       "    </tr>\n",
       "    <tr>\n",
       "      <th>31</th>\n",
       "      <td>Senegal</td>\n",
       "      <td>28000</td>\n",
       "      <td>11346</td>\n",
       "    </tr>\n",
       "    <tr>\n",
       "      <th>32</th>\n",
       "      <td>Guinea-Bissau</td>\n",
       "      <td>12076</td>\n",
       "      <td>9586</td>\n",
       "    </tr>\n",
       "    <tr>\n",
       "      <th>33</th>\n",
       "      <td>Equatorial Guinea</td>\n",
       "      <td>10800</td>\n",
       "      <td>4095</td>\n",
       "    </tr>\n",
       "    <tr>\n",
       "      <th>34</th>\n",
       "      <td>Gambia</td>\n",
       "      <td>8400</td>\n",
       "      <td>3510</td>\n",
       "    </tr>\n",
       "    <tr>\n",
       "      <th>35</th>\n",
       "      <td>Madagascar</td>\n",
       "      <td>8321</td>\n",
       "      <td>1811</td>\n",
       "    </tr>\n",
       "    <tr>\n",
       "      <th>36</th>\n",
       "      <td>Paraguay</td>\n",
       "      <td>7928</td>\n",
       "      <td>15843</td>\n",
       "    </tr>\n",
       "    <tr>\n",
       "      <th>37</th>\n",
       "      <td>Sao Tome and Principe</td>\n",
       "      <td>7171</td>\n",
       "      <td>1736</td>\n",
       "    </tr>\n",
       "    <tr>\n",
       "      <th>38</th>\n",
       "      <td>Gabon</td>\n",
       "      <td>4860</td>\n",
       "      <td>6460</td>\n",
       "    </tr>\n",
       "    <tr>\n",
       "      <th>39</th>\n",
       "      <td>Central African Republic</td>\n",
       "      <td>735</td>\n",
       "      <td>508</td>\n",
       "    </tr>\n",
       "    <tr>\n",
       "      <th>40</th>\n",
       "      <td>Suriname</td>\n",
       "      <td>256</td>\n",
       "      <td>553</td>\n",
       "    </tr>\n",
       "    <tr>\n",
       "      <th>41</th>\n",
       "      <td>Ukraine</td>\n",
       "      <td>0</td>\n",
       "      <td>0</td>\n",
       "    </tr>\n",
       "  </tbody>\n",
       "</table>\n",
       "</div>"
      ],
      "text/plain": [
       "                        Area  Produksi_t   Luas_ha\n",
       "0                  Indonesia    89518294  14586597\n",
       "1                   Malaysia    38281226   5231743\n",
       "2                   Thailand     5380000    940311\n",
       "3                   Colombia     3115989    478045\n",
       "4                    Nigeria     2560000   3878183\n",
       "5                  Guatemala     1610000    198000\n",
       "6                   Honduras     1400000    210000\n",
       "7           Papua New Guinea     1260000    221621\n",
       "8                     Brazil     1153526    201702\n",
       "9              Côte d'Ivoire      985600    364771\n",
       "10                   Ecuador      930000    188469\n",
       "11                    Mexico      598400    114938\n",
       "12                  Cameroon      580000    221596\n",
       "13                     Ghana      529714    356176\n",
       "14                Costa Rica      520200     75610\n",
       "15                      Peru      430000     74321\n",
       "16               Philippines      280000     63933\n",
       "17                 Nicaragua      267900     33459\n",
       "18                     China      225999     50404\n",
       "19                  Cambodia      170000     46398\n",
       "20                     Benin      160000     34946\n",
       "21              Sierra Leone      150000     46272\n",
       "22                    Panama      124000     19740\n",
       "23                    Angola      114000     23327\n",
       "24        Dominican Republic      102000     21000\n",
       "25                    Guinea      100000    332049\n",
       "26                   Liberia       90000     18808\n",
       "27           Solomon Islands       60000     22000\n",
       "28                     Congo       53852     12290\n",
       "29                      Togo       44000     65221\n",
       "30                   Burundi       33753      9113\n",
       "31                   Senegal       28000     11346\n",
       "32             Guinea-Bissau       12076      9586\n",
       "33         Equatorial Guinea       10800      4095\n",
       "34                    Gambia        8400      3510\n",
       "35                Madagascar        8321      1811\n",
       "36                  Paraguay        7928     15843\n",
       "37     Sao Tome and Principe        7171      1736\n",
       "38                     Gabon        4860      6460\n",
       "39  Central African Republic         735       508\n",
       "40                  Suriname         256       553\n",
       "41                   Ukraine           0         0"
      ]
     },
     "execution_count": 18,
     "metadata": {},
     "output_type": "execute_result"
    }
   ],
   "source": [
    "# produsen minyak sawit (palm oil) terbesar\n",
    "\n",
    "df_area_2020_palm = df_2020[df['Item'] == 'Palm oil']\n",
    "df_area__2020_palm_sum = df_area_2020_palm[['Area', 'Produksi_t', 'Luas_ha']].groupby(by=['Area']).agg({\n",
    "    'Produksi_t' : 'sum',\n",
    "    'Luas_ha' : 'sum'\n",
    "}).sort_values('Produksi_t', ascending=False).reset_index()\n",
    "df_area__2020_palm_sum"
   ]
  },
  {
   "cell_type": "markdown",
   "id": "f481fbde",
   "metadata": {},
   "source": [
    "## Luas lahan dan produksi minyak nabati di Indonesia (2000-2020)"
   ]
  },
  {
   "cell_type": "code",
   "execution_count": 19,
   "id": "ddf7abc4",
   "metadata": {
    "ExecuteTime": {
     "end_time": "2023-09-14T05:18:24.715971Z",
     "start_time": "2023-09-14T05:18:24.511600Z"
    }
   },
   "outputs": [],
   "source": [
    "df_indonesia = df[df['Area'] == 'Indonesia']"
   ]
  },
  {
   "cell_type": "code",
   "execution_count": 20,
   "id": "b37abe1f",
   "metadata": {
    "ExecuteTime": {
     "end_time": "2023-09-14T05:18:24.953291Z",
     "start_time": "2023-09-14T05:18:24.722625Z"
    }
   },
   "outputs": [
    {
     "data": {
      "text/html": [
       "<div>\n",
       "<style scoped>\n",
       "    .dataframe tbody tr th:only-of-type {\n",
       "        vertical-align: middle;\n",
       "    }\n",
       "\n",
       "    .dataframe tbody tr th {\n",
       "        vertical-align: top;\n",
       "    }\n",
       "\n",
       "    .dataframe thead th {\n",
       "        text-align: right;\n",
       "    }\n",
       "</style>\n",
       "<table border=\"1\" class=\"dataframe\">\n",
       "  <thead>\n",
       "    <tr style=\"text-align: right;\">\n",
       "      <th></th>\n",
       "      <th>Year</th>\n",
       "      <th>Item</th>\n",
       "      <th>Produksi_t</th>\n",
       "      <th>Luas_ha</th>\n",
       "    </tr>\n",
       "  </thead>\n",
       "  <tbody>\n",
       "    <tr>\n",
       "      <th>0</th>\n",
       "      <td>2000</td>\n",
       "      <td>Coconut oil</td>\n",
       "      <td>1556000</td>\n",
       "      <td>2591530</td>\n",
       "    </tr>\n",
       "    <tr>\n",
       "      <th>1</th>\n",
       "      <td>2000</td>\n",
       "      <td>Cottonseed oil</td>\n",
       "      <td>262</td>\n",
       "      <td>11553</td>\n",
       "    </tr>\n",
       "    <tr>\n",
       "      <th>2</th>\n",
       "      <td>2000</td>\n",
       "      <td>Groundnut oil</td>\n",
       "      <td>52902</td>\n",
       "      <td>683554</td>\n",
       "    </tr>\n",
       "    <tr>\n",
       "      <th>3</th>\n",
       "      <td>2000</td>\n",
       "      <td>Palm oil</td>\n",
       "      <td>14001014</td>\n",
       "      <td>2014000</td>\n",
       "    </tr>\n",
       "    <tr>\n",
       "      <th>4</th>\n",
       "      <td>2000</td>\n",
       "      <td>Soybean oil</td>\n",
       "      <td>679036</td>\n",
       "      <td>825000</td>\n",
       "    </tr>\n",
       "    <tr>\n",
       "      <th>...</th>\n",
       "      <td>...</td>\n",
       "      <td>...</td>\n",
       "      <td>...</td>\n",
       "      <td>...</td>\n",
       "    </tr>\n",
       "    <tr>\n",
       "      <th>119</th>\n",
       "      <td>2020</td>\n",
       "      <td>Coconut oil</td>\n",
       "      <td>1198000</td>\n",
       "      <td>2770000</td>\n",
       "    </tr>\n",
       "    <tr>\n",
       "      <th>120</th>\n",
       "      <td>2020</td>\n",
       "      <td>Groundnut oil</td>\n",
       "      <td>49362</td>\n",
       "      <td>363000</td>\n",
       "    </tr>\n",
       "    <tr>\n",
       "      <th>121</th>\n",
       "      <td>2020</td>\n",
       "      <td>Palm oil</td>\n",
       "      <td>89518294</td>\n",
       "      <td>14586597</td>\n",
       "    </tr>\n",
       "    <tr>\n",
       "      <th>122</th>\n",
       "      <td>2020</td>\n",
       "      <td>Soybean oil</td>\n",
       "      <td>786946</td>\n",
       "      <td>184274</td>\n",
       "    </tr>\n",
       "    <tr>\n",
       "      <th>123</th>\n",
       "      <td>2020</td>\n",
       "      <td>Sunflower-seed oil</td>\n",
       "      <td>14321</td>\n",
       "      <td>0</td>\n",
       "    </tr>\n",
       "  </tbody>\n",
       "</table>\n",
       "<p>124 rows × 4 columns</p>\n",
       "</div>"
      ],
      "text/plain": [
       "     Year                Item  Produksi_t   Luas_ha\n",
       "0    2000         Coconut oil     1556000   2591530\n",
       "1    2000      Cottonseed oil         262     11553\n",
       "2    2000       Groundnut oil       52902    683554\n",
       "3    2000            Palm oil    14001014   2014000\n",
       "4    2000         Soybean oil      679036    825000\n",
       "..    ...                 ...         ...       ...\n",
       "119  2020         Coconut oil     1198000   2770000\n",
       "120  2020       Groundnut oil       49362    363000\n",
       "121  2020            Palm oil    89518294  14586597\n",
       "122  2020         Soybean oil      786946    184274\n",
       "123  2020  Sunflower-seed oil       14321         0\n",
       "\n",
       "[124 rows x 4 columns]"
      ]
     },
     "execution_count": 20,
     "metadata": {},
     "output_type": "execute_result"
    }
   ],
   "source": [
    "df_indonesia_sum = df_indonesia[['Year', 'Item', 'Produksi_t', 'Luas_ha']].groupby(by=['Year', 'Item']).agg({\n",
    "    'Produksi_t' : 'sum',\n",
    "    'Luas_ha' : 'sum'\n",
    "}).reset_index()\n",
    "df_indonesia_sum"
   ]
  },
  {
   "cell_type": "code",
   "execution_count": 21,
   "id": "0ef5f98a",
   "metadata": {
    "ExecuteTime": {
     "end_time": "2023-09-14T05:18:25.145093Z",
     "start_time": "2023-09-14T05:18:24.957860Z"
    }
   },
   "outputs": [
    {
     "data": {
      "text/html": [
       "<div>\n",
       "<style scoped>\n",
       "    .dataframe tbody tr th:only-of-type {\n",
       "        vertical-align: middle;\n",
       "    }\n",
       "\n",
       "    .dataframe tbody tr th {\n",
       "        vertical-align: top;\n",
       "    }\n",
       "\n",
       "    .dataframe thead th {\n",
       "        text-align: right;\n",
       "    }\n",
       "</style>\n",
       "<table border=\"1\" class=\"dataframe\">\n",
       "  <thead>\n",
       "    <tr style=\"text-align: right;\">\n",
       "      <th></th>\n",
       "      <th>Year</th>\n",
       "      <th>Produksi_t</th>\n",
       "      <th>Luas_ha</th>\n",
       "    </tr>\n",
       "  </thead>\n",
       "  <tbody>\n",
       "    <tr>\n",
       "      <th>0</th>\n",
       "      <td>2000</td>\n",
       "      <td>14001014</td>\n",
       "      <td>2014000</td>\n",
       "    </tr>\n",
       "    <tr>\n",
       "      <th>1</th>\n",
       "      <td>2001</td>\n",
       "      <td>16792944</td>\n",
       "      <td>2200000</td>\n",
       "    </tr>\n",
       "    <tr>\n",
       "      <th>2</th>\n",
       "      <td>2002</td>\n",
       "      <td>19244688</td>\n",
       "      <td>2790000</td>\n",
       "    </tr>\n",
       "    <tr>\n",
       "      <th>3</th>\n",
       "      <td>2003</td>\n",
       "      <td>20881668</td>\n",
       "      <td>3040000</td>\n",
       "    </tr>\n",
       "    <tr>\n",
       "      <th>4</th>\n",
       "      <td>2004</td>\n",
       "      <td>21660778</td>\n",
       "      <td>3320000</td>\n",
       "    </tr>\n",
       "    <tr>\n",
       "      <th>5</th>\n",
       "      <td>2005</td>\n",
       "      <td>23723230</td>\n",
       "      <td>3690000</td>\n",
       "    </tr>\n",
       "    <tr>\n",
       "      <th>6</th>\n",
       "      <td>2006</td>\n",
       "      <td>34701696</td>\n",
       "      <td>4110000</td>\n",
       "    </tr>\n",
       "    <tr>\n",
       "      <th>7</th>\n",
       "      <td>2007</td>\n",
       "      <td>35329448</td>\n",
       "      <td>4560000</td>\n",
       "    </tr>\n",
       "    <tr>\n",
       "      <th>8</th>\n",
       "      <td>2008</td>\n",
       "      <td>35079576</td>\n",
       "      <td>4980000</td>\n",
       "    </tr>\n",
       "    <tr>\n",
       "      <th>9</th>\n",
       "      <td>2009</td>\n",
       "      <td>38648584</td>\n",
       "      <td>5370000</td>\n",
       "    </tr>\n",
       "    <tr>\n",
       "      <th>10</th>\n",
       "      <td>2010</td>\n",
       "      <td>43916240</td>\n",
       "      <td>8385394</td>\n",
       "    </tr>\n",
       "    <tr>\n",
       "      <th>11</th>\n",
       "      <td>2011</td>\n",
       "      <td>46193082</td>\n",
       "      <td>8992824</td>\n",
       "    </tr>\n",
       "    <tr>\n",
       "      <th>12</th>\n",
       "      <td>2012</td>\n",
       "      <td>52031038</td>\n",
       "      <td>9572715</td>\n",
       "    </tr>\n",
       "    <tr>\n",
       "      <th>13</th>\n",
       "      <td>2013</td>\n",
       "      <td>55564008</td>\n",
       "      <td>10465020</td>\n",
       "    </tr>\n",
       "    <tr>\n",
       "      <th>14</th>\n",
       "      <td>2014</td>\n",
       "      <td>58556378</td>\n",
       "      <td>10465020</td>\n",
       "    </tr>\n",
       "    <tr>\n",
       "      <th>15</th>\n",
       "      <td>2015</td>\n",
       "      <td>62140030</td>\n",
       "      <td>10754801</td>\n",
       "    </tr>\n",
       "    <tr>\n",
       "      <th>16</th>\n",
       "      <td>2016</td>\n",
       "      <td>63461922</td>\n",
       "      <td>11201465</td>\n",
       "    </tr>\n",
       "    <tr>\n",
       "      <th>17</th>\n",
       "      <td>2017</td>\n",
       "      <td>75930448</td>\n",
       "      <td>14048722</td>\n",
       "    </tr>\n",
       "    <tr>\n",
       "      <th>18</th>\n",
       "      <td>2018</td>\n",
       "      <td>81134460</td>\n",
       "      <td>14326350</td>\n",
       "    </tr>\n",
       "    <tr>\n",
       "      <th>19</th>\n",
       "      <td>2019</td>\n",
       "      <td>94240494</td>\n",
       "      <td>14456612</td>\n",
       "    </tr>\n",
       "    <tr>\n",
       "      <th>20</th>\n",
       "      <td>2020</td>\n",
       "      <td>89518294</td>\n",
       "      <td>14586597</td>\n",
       "    </tr>\n",
       "  </tbody>\n",
       "</table>\n",
       "</div>"
      ],
      "text/plain": [
       "    Year  Produksi_t   Luas_ha\n",
       "0   2000    14001014   2014000\n",
       "1   2001    16792944   2200000\n",
       "2   2002    19244688   2790000\n",
       "3   2003    20881668   3040000\n",
       "4   2004    21660778   3320000\n",
       "5   2005    23723230   3690000\n",
       "6   2006    34701696   4110000\n",
       "7   2007    35329448   4560000\n",
       "8   2008    35079576   4980000\n",
       "9   2009    38648584   5370000\n",
       "10  2010    43916240   8385394\n",
       "11  2011    46193082   8992824\n",
       "12  2012    52031038   9572715\n",
       "13  2013    55564008  10465020\n",
       "14  2014    58556378  10465020\n",
       "15  2015    62140030  10754801\n",
       "16  2016    63461922  11201465\n",
       "17  2017    75930448  14048722\n",
       "18  2018    81134460  14326350\n",
       "19  2019    94240494  14456612\n",
       "20  2020    89518294  14586597"
      ]
     },
     "execution_count": 21,
     "metadata": {},
     "output_type": "execute_result"
    }
   ],
   "source": [
    "df_indonesia_palm = df_indonesia[df_indonesia['Item'] == 'Palm oil']\n",
    "df_indonesia_palm_sum = df_indonesia_palm[['Year', 'Produksi_t', 'Luas_ha']].reset_index(drop=True)\n",
    "df_indonesia_palm_sum"
   ]
  },
  {
   "cell_type": "markdown",
   "id": "f181ae58",
   "metadata": {},
   "source": [
    "## Luas lahan dan produksi minyak nabati di Indonesia (2020)"
   ]
  },
  {
   "cell_type": "code",
   "execution_count": 22,
   "id": "d53eec71",
   "metadata": {
    "ExecuteTime": {
     "end_time": "2023-09-14T05:18:25.476413Z",
     "start_time": "2023-09-14T05:18:25.151060Z"
    }
   },
   "outputs": [
    {
     "name": "stderr",
     "output_type": "stream",
     "text": [
      "/tmp/ipykernel_10878/2655788130.py:1: UserWarning: Boolean Series key will be reindexed to match DataFrame index.\n",
      "  df_indonesia_2020 = df_2020[df['Area'] == 'Indonesia'].reset_index(drop=True)\n"
     ]
    },
    {
     "data": {
      "text/html": [
       "<div>\n",
       "<style scoped>\n",
       "    .dataframe tbody tr th:only-of-type {\n",
       "        vertical-align: middle;\n",
       "    }\n",
       "\n",
       "    .dataframe tbody tr th {\n",
       "        vertical-align: top;\n",
       "    }\n",
       "\n",
       "    .dataframe thead th {\n",
       "        text-align: right;\n",
       "    }\n",
       "</style>\n",
       "<table border=\"1\" class=\"dataframe\">\n",
       "  <thead>\n",
       "    <tr style=\"text-align: right;\">\n",
       "      <th></th>\n",
       "      <th>Year</th>\n",
       "      <th>Area</th>\n",
       "      <th>Code</th>\n",
       "      <th>Item</th>\n",
       "      <th>Produksi_t</th>\n",
       "      <th>Luas_ha</th>\n",
       "    </tr>\n",
       "  </thead>\n",
       "  <tbody>\n",
       "    <tr>\n",
       "      <th>0</th>\n",
       "      <td>2020</td>\n",
       "      <td>Indonesia</td>\n",
       "      <td>IDN</td>\n",
       "      <td>Palm oil</td>\n",
       "      <td>89518294</td>\n",
       "      <td>14586597</td>\n",
       "    </tr>\n",
       "    <tr>\n",
       "      <th>1</th>\n",
       "      <td>2020</td>\n",
       "      <td>Indonesia</td>\n",
       "      <td>IDN</td>\n",
       "      <td>Soybean oil</td>\n",
       "      <td>786946</td>\n",
       "      <td>184274</td>\n",
       "    </tr>\n",
       "    <tr>\n",
       "      <th>2</th>\n",
       "      <td>2020</td>\n",
       "      <td>Indonesia</td>\n",
       "      <td>IDN</td>\n",
       "      <td>Sunflower-seed oil</td>\n",
       "      <td>14321</td>\n",
       "      <td>0</td>\n",
       "    </tr>\n",
       "    <tr>\n",
       "      <th>3</th>\n",
       "      <td>2020</td>\n",
       "      <td>Indonesia</td>\n",
       "      <td>IDN</td>\n",
       "      <td>Groundnut oil</td>\n",
       "      <td>49362</td>\n",
       "      <td>363000</td>\n",
       "    </tr>\n",
       "    <tr>\n",
       "      <th>4</th>\n",
       "      <td>2020</td>\n",
       "      <td>Indonesia</td>\n",
       "      <td>IDN</td>\n",
       "      <td>Coconut oil</td>\n",
       "      <td>1198000</td>\n",
       "      <td>2770000</td>\n",
       "    </tr>\n",
       "  </tbody>\n",
       "</table>\n",
       "</div>"
      ],
      "text/plain": [
       "   Year       Area Code                Item  Produksi_t   Luas_ha\n",
       "0  2020  Indonesia  IDN            Palm oil    89518294  14586597\n",
       "1  2020  Indonesia  IDN         Soybean oil      786946    184274\n",
       "2  2020  Indonesia  IDN  Sunflower-seed oil       14321         0\n",
       "3  2020  Indonesia  IDN       Groundnut oil       49362    363000\n",
       "4  2020  Indonesia  IDN         Coconut oil     1198000   2770000"
      ]
     },
     "execution_count": 22,
     "metadata": {},
     "output_type": "execute_result"
    }
   ],
   "source": [
    "df_indonesia_2020 = df_2020[df['Area'] == 'Indonesia'].reset_index(drop=True)\n",
    "df_indonesia_2020"
   ]
  },
  {
   "cell_type": "code",
   "execution_count": 23,
   "id": "dc91a4df",
   "metadata": {
    "ExecuteTime": {
     "end_time": "2023-09-14T05:18:25.850452Z",
     "start_time": "2023-09-14T05:18:25.483521Z"
    }
   },
   "outputs": [
    {
     "name": "stderr",
     "output_type": "stream",
     "text": [
      "/tmp/ipykernel_10878/3518475691.py:15: SettingWithCopyWarning: \n",
      "A value is trying to be set on a copy of a slice from a DataFrame.\n",
      "Try using .loc[row_indexer,col_indexer] = value instead\n",
      "\n",
      "See the caveats in the documentation: https://pandas.pydata.org/pandas-docs/stable/user_guide/indexing.html#returning-a-view-versus-a-copy\n",
      "  df_indonesia_2020_pct['Persentase Produksi'] = persen1\n",
      "/tmp/ipykernel_10878/3518475691.py:16: SettingWithCopyWarning: \n",
      "A value is trying to be set on a copy of a slice from a DataFrame.\n",
      "Try using .loc[row_indexer,col_indexer] = value instead\n",
      "\n",
      "See the caveats in the documentation: https://pandas.pydata.org/pandas-docs/stable/user_guide/indexing.html#returning-a-view-versus-a-copy\n",
      "  df_indonesia_2020_pct['Persentase Luas'] = persen2\n"
     ]
    },
    {
     "data": {
      "text/html": [
       "<div>\n",
       "<style scoped>\n",
       "    .dataframe tbody tr th:only-of-type {\n",
       "        vertical-align: middle;\n",
       "    }\n",
       "\n",
       "    .dataframe tbody tr th {\n",
       "        vertical-align: top;\n",
       "    }\n",
       "\n",
       "    .dataframe thead th {\n",
       "        text-align: right;\n",
       "    }\n",
       "</style>\n",
       "<table border=\"1\" class=\"dataframe\">\n",
       "  <thead>\n",
       "    <tr style=\"text-align: right;\">\n",
       "      <th></th>\n",
       "      <th>Item</th>\n",
       "      <th>Produksi_t</th>\n",
       "      <th>Luas_ha</th>\n",
       "      <th>Persentase Produksi</th>\n",
       "      <th>Persentase Luas</th>\n",
       "    </tr>\n",
       "  </thead>\n",
       "  <tbody>\n",
       "    <tr>\n",
       "      <th>0</th>\n",
       "      <td>Palm oil</td>\n",
       "      <td>89518294</td>\n",
       "      <td>14586597</td>\n",
       "      <td>97.76</td>\n",
       "      <td>81.47</td>\n",
       "    </tr>\n",
       "    <tr>\n",
       "      <th>1</th>\n",
       "      <td>Soybean oil</td>\n",
       "      <td>786946</td>\n",
       "      <td>184274</td>\n",
       "      <td>0.86</td>\n",
       "      <td>1.03</td>\n",
       "    </tr>\n",
       "    <tr>\n",
       "      <th>2</th>\n",
       "      <td>Sunflower-seed oil</td>\n",
       "      <td>14321</td>\n",
       "      <td>0</td>\n",
       "      <td>0.02</td>\n",
       "      <td>0.00</td>\n",
       "    </tr>\n",
       "    <tr>\n",
       "      <th>3</th>\n",
       "      <td>Groundnut oil</td>\n",
       "      <td>49362</td>\n",
       "      <td>363000</td>\n",
       "      <td>0.05</td>\n",
       "      <td>2.03</td>\n",
       "    </tr>\n",
       "    <tr>\n",
       "      <th>4</th>\n",
       "      <td>Coconut oil</td>\n",
       "      <td>1198000</td>\n",
       "      <td>2770000</td>\n",
       "      <td>1.31</td>\n",
       "      <td>15.47</td>\n",
       "    </tr>\n",
       "  </tbody>\n",
       "</table>\n",
       "</div>"
      ],
      "text/plain": [
       "                 Item  Produksi_t   Luas_ha  Persentase Produksi  \\\n",
       "0            Palm oil    89518294  14586597                97.76   \n",
       "1         Soybean oil      786946    184274                 0.86   \n",
       "2  Sunflower-seed oil       14321         0                 0.02   \n",
       "3       Groundnut oil       49362    363000                 0.05   \n",
       "4         Coconut oil     1198000   2770000                 1.31   \n",
       "\n",
       "   Persentase Luas  \n",
       "0            81.47  \n",
       "1             1.03  \n",
       "2             0.00  \n",
       "3             2.03  \n",
       "4            15.47  "
      ]
     },
     "execution_count": 23,
     "metadata": {},
     "output_type": "execute_result"
    }
   ],
   "source": [
    "# dalam persen\n",
    "df_indonesia_2020_pct = df_indonesia_2020[['Item', 'Produksi_t', 'Luas_ha']]\n",
    "\n",
    "persen1 = list()\n",
    "persen2 = list()\n",
    "total_pro = df_indonesia_2020['Produksi_t'].sum()\n",
    "total_luas = df_indonesia_2020['Luas_ha'].sum()\n",
    "\n",
    "for i in range(df_indonesia_2020.shape[0]):\n",
    "    pct1 = (df_indonesia_2020['Produksi_t'][i]/total_pro)*100\n",
    "    pct2 = (df_indonesia_2020['Luas_ha'][i]/total_luas)*100\n",
    "    persen1.append(round(pct1, 2))\n",
    "    persen2.append(round(pct2, 2))\n",
    "\n",
    "df_indonesia_2020_pct['Persentase Produksi'] = persen1\n",
    "df_indonesia_2020_pct['Persentase Luas'] = persen2\n",
    "df_indonesia_2020_pct\n"
   ]
  },
  {
   "cell_type": "markdown",
   "id": "f21be5e1",
   "metadata": {},
   "source": [
    "## Indonesia vs Malaysia"
   ]
  },
  {
   "cell_type": "code",
   "execution_count": 47,
   "id": "7ff7490e",
   "metadata": {
    "ExecuteTime": {
     "end_time": "2023-09-14T05:27:23.224255Z",
     "start_time": "2023-09-14T05:27:23.151504Z"
    }
   },
   "outputs": [
    {
     "name": "stderr",
     "output_type": "stream",
     "text": [
      "/tmp/ipykernel_10878/285273976.py:1: UserWarning: Boolean Series key will be reindexed to match DataFrame index.\n",
      "  df_indo_malay = pd.concat([df_2020[df['Area']=='Indonesia'], df_2020[df['Area']=='Malaysia']])\n",
      "/tmp/ipykernel_10878/285273976.py:1: UserWarning: Boolean Series key will be reindexed to match DataFrame index.\n",
      "  df_indo_malay = pd.concat([df_2020[df['Area']=='Indonesia'], df_2020[df['Area']=='Malaysia']])\n"
     ]
    },
    {
     "data": {
      "text/html": [
       "<div>\n",
       "<style scoped>\n",
       "    .dataframe tbody tr th:only-of-type {\n",
       "        vertical-align: middle;\n",
       "    }\n",
       "\n",
       "    .dataframe tbody tr th {\n",
       "        vertical-align: top;\n",
       "    }\n",
       "\n",
       "    .dataframe thead th {\n",
       "        text-align: right;\n",
       "    }\n",
       "</style>\n",
       "<table border=\"1\" class=\"dataframe\">\n",
       "  <thead>\n",
       "    <tr style=\"text-align: right;\">\n",
       "      <th></th>\n",
       "      <th>Year</th>\n",
       "      <th>Area</th>\n",
       "      <th>Code</th>\n",
       "      <th>Item</th>\n",
       "      <th>Produksi_t</th>\n",
       "      <th>Luas_ha</th>\n",
       "    </tr>\n",
       "  </thead>\n",
       "  <tbody>\n",
       "    <tr>\n",
       "      <th>4937</th>\n",
       "      <td>2020</td>\n",
       "      <td>Indonesia</td>\n",
       "      <td>IDN</td>\n",
       "      <td>Palm oil</td>\n",
       "      <td>89518294</td>\n",
       "      <td>14586597</td>\n",
       "    </tr>\n",
       "    <tr>\n",
       "      <th>6396</th>\n",
       "      <td>2020</td>\n",
       "      <td>Malaysia</td>\n",
       "      <td>MYS</td>\n",
       "      <td>Palm oil</td>\n",
       "      <td>38281226</td>\n",
       "      <td>5231743</td>\n",
       "    </tr>\n",
       "  </tbody>\n",
       "</table>\n",
       "</div>"
      ],
      "text/plain": [
       "      Year       Area Code      Item  Produksi_t   Luas_ha\n",
       "4937  2020  Indonesia  IDN  Palm oil    89518294  14586597\n",
       "6396  2020   Malaysia  MYS  Palm oil    38281226   5231743"
      ]
     },
     "execution_count": 47,
     "metadata": {},
     "output_type": "execute_result"
    }
   ],
   "source": [
    "df_indo_malay = pd.concat([df_2020[df['Area']=='Indonesia'], df_2020[df['Area']=='Malaysia']])\n",
    "df_indo_malay_palm = df_indo_malay[df_indo_malay['Item']=='Palm oil']\n",
    "df_indo_malay_palm"
   ]
  },
  {
   "cell_type": "code",
   "execution_count": 54,
   "id": "c7637089",
   "metadata": {
    "ExecuteTime": {
     "end_time": "2023-09-14T06:36:54.399063Z",
     "start_time": "2023-09-14T06:36:54.373162Z"
    }
   },
   "outputs": [
    {
     "name": "stderr",
     "output_type": "stream",
     "text": [
      "/tmp/ipykernel_10878/4043014249.py:2: SettingWithCopyWarning: \n",
      "A value is trying to be set on a copy of a slice from a DataFrame.\n",
      "Try using .loc[row_indexer,col_indexer] = value instead\n",
      "\n",
      "See the caveats in the documentation: https://pandas.pydata.org/pandas-docs/stable/user_guide/indexing.html#returning-a-view-versus-a-copy\n",
      "  df_indo_malay_palm['Produksi per 1 juta hektar'] =  pro_1j_ha\n"
     ]
    },
    {
     "data": {
      "text/html": [
       "<div>\n",
       "<style scoped>\n",
       "    .dataframe tbody tr th:only-of-type {\n",
       "        vertical-align: middle;\n",
       "    }\n",
       "\n",
       "    .dataframe tbody tr th {\n",
       "        vertical-align: top;\n",
       "    }\n",
       "\n",
       "    .dataframe thead th {\n",
       "        text-align: right;\n",
       "    }\n",
       "</style>\n",
       "<table border=\"1\" class=\"dataframe\">\n",
       "  <thead>\n",
       "    <tr style=\"text-align: right;\">\n",
       "      <th></th>\n",
       "      <th>Year</th>\n",
       "      <th>Area</th>\n",
       "      <th>Code</th>\n",
       "      <th>Item</th>\n",
       "      <th>Produksi_t</th>\n",
       "      <th>Luas_ha</th>\n",
       "      <th>Produksi per 1 juta hektar</th>\n",
       "    </tr>\n",
       "  </thead>\n",
       "  <tbody>\n",
       "    <tr>\n",
       "      <th>4937</th>\n",
       "      <td>2020</td>\n",
       "      <td>Indonesia</td>\n",
       "      <td>IDN</td>\n",
       "      <td>Palm oil</td>\n",
       "      <td>89518294</td>\n",
       "      <td>14586597</td>\n",
       "      <td>6137024</td>\n",
       "    </tr>\n",
       "    <tr>\n",
       "      <th>6396</th>\n",
       "      <td>2020</td>\n",
       "      <td>Malaysia</td>\n",
       "      <td>MYS</td>\n",
       "      <td>Palm oil</td>\n",
       "      <td>38281226</td>\n",
       "      <td>5231743</td>\n",
       "      <td>7317108</td>\n",
       "    </tr>\n",
       "  </tbody>\n",
       "</table>\n",
       "</div>"
      ],
      "text/plain": [
       "      Year       Area Code      Item  Produksi_t   Luas_ha  \\\n",
       "4937  2020  Indonesia  IDN  Palm oil    89518294  14586597   \n",
       "6396  2020   Malaysia  MYS  Palm oil    38281226   5231743   \n",
       "\n",
       "      Produksi per 1 juta hektar  \n",
       "4937                     6137024  \n",
       "6396                     7317108  "
      ]
     },
     "execution_count": 54,
     "metadata": {},
     "output_type": "execute_result"
    }
   ],
   "source": [
    "pro_1j_ha = round((df_indo_malay_palm['Produksi_t']*1000000)/df_indo_malay_palm['Luas_ha']).astype(int)\n",
    "df_indo_malay_palm['Produksi per 1 juta hektar'] =  pro_1j_ha\n",
    "df_indo_malay_palm "
   ]
  },
  {
   "cell_type": "markdown",
   "id": "50219ef5",
   "metadata": {},
   "source": [
    "# Visualisasi Data"
   ]
  },
  {
   "cell_type": "code",
   "execution_count": 25,
   "id": "df9ea57d",
   "metadata": {
    "ExecuteTime": {
     "end_time": "2023-09-14T05:18:33.571334Z",
     "start_time": "2023-09-14T05:18:26.127014Z"
    }
   },
   "outputs": [
    {
     "data": {
      "text/plain": [
       "<Axes: xlabel='Luas_ha', ylabel='Produksi_t'>"
      ]
     },
     "execution_count": 25,
     "metadata": {},
     "output_type": "execute_result"
    },
    {
     "data": {
      "image/png": "[encoded data removed]",
      "text/plain": [
       "<Figure size 1440x864 with 1 Axes>"
      ]
     },
     "metadata": {
      "needs_background": "light"
     },
     "output_type": "display_data"
    }
   ],
   "source": [
    "sns.set(rc={'axes.facecolor':'white', 'figure.facecolor':'white'})\n",
    "\n",
    "plt.figure(figsize=(20,12))\n",
    "\n",
    "sns.scatterplot(x=df.Luas_ha, y=df.Produksi_t, hue=df.Item, \n",
    "                size=df.Produksi_t, sizes=(200,200))"
   ]
  },
  {
   "cell_type": "code",
   "execution_count": 26,
   "id": "56cf6d34",
   "metadata": {
    "ExecuteTime": {
     "end_time": "2023-09-14T05:18:34.930683Z",
     "start_time": "2023-09-14T05:18:33.582405Z"
    }
   },
   "outputs": [
    {
     "data": {
      "text/plain": [
       "<Axes: xlabel='Produksi_t', ylabel='Item'>"
      ]
     },
     "execution_count": 26,
     "metadata": {},
     "output_type": "execute_result"
    },
    {
     "data": {
      "image/png": "[encoded data removed]",
      "text/plain": [
       "<Figure size 1440x864 with 1 Axes>"
      ]
     },
     "metadata": {
      "needs_background": "light"
     },
     "output_type": "display_data"
    }
   ],
   "source": [
    "plt.figure(figsize=(20,12))\n",
    "sns.barplot(data=df_2020_sum, y='Item', \n",
    "            x=df_2020_sum['Produksi_t']/1000000, errorbar=None)"
   ]
  },
  {
   "cell_type": "code",
   "execution_count": 27,
   "id": "34ca528d",
   "metadata": {
    "ExecuteTime": {
     "end_time": "2023-09-14T05:18:36.305976Z",
     "start_time": "2023-09-14T05:18:34.936318Z"
    }
   },
   "outputs": [
    {
     "data": {
      "text/plain": [
       "<Axes: xlabel='Luas_ha', ylabel='Item'>"
      ]
     },
     "execution_count": 27,
     "metadata": {},
     "output_type": "execute_result"
    },
    {
     "data": {
      "image/png": "[encoded data removed]",
      "text/plain": [
       "<Figure size 1440x864 with 1 Axes>"
      ]
     },
     "metadata": {
      "needs_background": "light"
     },
     "output_type": "display_data"
    }
   ],
   "source": [
    "plt.figure(figsize=(20,12))\n",
    "sns.barplot(data=df_2020_sum, y='Item', x=df_2020_sum['Luas_ha']/1000000, errorbar=None, orient='h')"
   ]
  },
  {
   "cell_type": "markdown",
   "id": "28ddd573",
   "metadata": {},
   "source": [
    "## Pertumbuhan produksi minyak nabati"
   ]
  },
  {
   "cell_type": "code",
   "execution_count": 28,
   "id": "d1950ea6",
   "metadata": {
    "ExecuteTime": {
     "end_time": "2023-09-14T05:18:38.348177Z",
     "start_time": "2023-09-14T05:18:36.312192Z"
    }
   },
   "outputs": [
    {
     "data": {
      "text/plain": [
       "<Axes: xlabel='Year', ylabel='Produksi_t'>"
      ]
     },
     "execution_count": 28,
     "metadata": {},
     "output_type": "execute_result"
    },
    {
     "data": {
      "image/png": "[encoded data removed]",
      "text/plain": [
       "<Figure size 1440x504 with 1 Axes>"
      ]
     },
     "metadata": {
      "needs_background": "light"
     },
     "output_type": "display_data"
    }
   ],
   "source": [
    "plt.figure(figsize=(20,7))\n",
    "\n",
    "sns.lineplot(data=df_year, x='Year', y='Produksi_t', hue='Item')"
   ]
  },
  {
   "cell_type": "code",
   "execution_count": 29,
   "id": "52d4fe35",
   "metadata": {
    "ExecuteTime": {
     "end_time": "2023-09-14T05:18:40.288166Z",
     "start_time": "2023-09-14T05:18:38.379755Z"
    }
   },
   "outputs": [
    {
     "data": {
      "text/plain": [
       "<Axes: xlabel='Year', ylabel='Produksi_t'>"
      ]
     },
     "execution_count": 29,
     "metadata": {},
     "output_type": "execute_result"
    },
    {
     "data": {
      "image/png": "[encoded data removed]",
      "text/plain": [
       "<Figure size 1440x504 with 1 Axes>"
      ]
     },
     "metadata": {
      "needs_background": "light"
     },
     "output_type": "display_data"
    }
   ],
   "source": [
    "# pertumbuhan di indonesia\n",
    "plt.figure(figsize=(20,7))\n",
    "\n",
    "sns.lineplot(data=df_indonesia_sum, x='Year', y='Produksi_t', hue='Item')"
   ]
  },
  {
   "cell_type": "code",
   "execution_count": 30,
   "id": "10a5788b",
   "metadata": {
    "ExecuteTime": {
     "end_time": "2023-09-14T05:18:42.005667Z",
     "start_time": "2023-09-14T05:18:40.294083Z"
    }
   },
   "outputs": [
    {
     "data": {
      "image/png": "[encoded data removed]",
      "text/plain": [
       "<Figure size 1440x504 with 1 Axes>"
      ]
     },
     "metadata": {
      "needs_background": "light"
     },
     "output_type": "display_data"
    }
   ],
   "source": [
    "# pertumbuhan dunia secara keseluruhan\n",
    "\n",
    "plt.figure(figsize=(20,7))\n",
    "\n",
    "ax = sns.lineplot(data=df_year_sum, x='Year', y=df_year_sum['Produksi_t']/1000000, linewidth=10)\n",
    "plt.title('Produksi Minyak Nabati (2000-2020)', size=20)\n",
    "ax.locator_params(integer=True)\n",
    "ax.set_xlabel('Tahun', size=15) \n",
    "ax.set_ylabel('Produksi', size=15)\n",
    "ax.grid(False)\n",
    "\n",
    "plt.savefig('Produksi minyak nabati (2000-2020).png', transparent=True)"
   ]
  },
  {
   "cell_type": "markdown",
   "id": "97ed3098",
   "metadata": {},
   "source": [
    "## Perbandingan Luas Lahan dengan Jumlah Produksi"
   ]
  },
  {
   "cell_type": "code",
   "execution_count": 31,
   "id": "becd1851",
   "metadata": {
    "ExecuteTime": {
     "end_time": "2023-09-14T05:18:44.329946Z",
     "start_time": "2023-09-14T05:18:42.012567Z"
    }
   },
   "outputs": [
    {
     "data": {
      "image/png": "[encoded data removed]",
      "text/plain": [
       "<Figure size 1368x504 with 2 Axes>"
      ]
     },
     "metadata": {
      "needs_background": "light"
     },
     "output_type": "display_data"
    }
   ],
   "source": [
    "fig, ax = plt.subplots(nrows=1, ncols=2, figsize=(19, 7))\n",
    "\n",
    "plt.suptitle('Perbandingan Luas Lahan dan Produksi Minyak Nabati', size=25)\n",
    "plt.subplots_adjust(left=None, bottom=None, right=None, top=None, wspace= 0.35, hspace=None)\n",
    "\n",
    "sns.barplot(data=df_2020_sum, y='Item', x=df_2020_sum['Produksi_t']/1000000, errorbar=None, ax=ax[0])\n",
    "ax[0].set_ylabel(None)\n",
    "ax[0].set_xlabel(None)\n",
    "ax[0].set(title='Produksi Minyak (Juta Ton)')\n",
    "ax[0].invert_xaxis()\n",
    "ax[0].set(xticklabels=[])\n",
    "ax[0].tick_params(labelleft=False, left=False)\n",
    "ax[0].bar_label(ax[0].containers[0],position=(-5,0), size=13)\n",
    "ax[0].set(xlim=(2500, 0))\n",
    "ax[0].grid(False)\n",
    "\n",
    "sns.barplot(data=df_2020_sum, y='Item', x=df_2020_sum['Luas_ha']/1000000, errorbar=None, orient='h', ax=ax[1]) \n",
    "ax[1].set_ylabel(None)\n",
    "ax[1].set_xlabel(None)\n",
    "ax[1].set(xticklabels=[])\n",
    "ax[1].set(title='Luas Lahan (Juta Hektar)')\n",
    "ax[1].tick_params(axis='y', labelsize=15, length=0)\n",
    "ax[1].set_yticklabels(list(df_2020_sum['Item'].unique()), ha='center', position=(-0.16,0.2))\n",
    "ax[1].bar_label(ax[1].containers[0], position=(5, 0), size=13)\n",
    "ax[1].set(xlim=(0, 2500))\n",
    "ax[1].grid(False)\n",
    "\n",
    "sns.despine(bottom=True, right=True, left=True, top=True)\n",
    "plt.show()\n",
    "\n",
    "fig.savefig('Perbandingan Luas Lahan dan Produksi Minyak Nabati.png', transparent=True)"
   ]
  },
  {
   "cell_type": "code",
   "execution_count": 32,
   "id": "e068e2cf",
   "metadata": {
    "ExecuteTime": {
     "end_time": "2023-09-14T05:18:47.018392Z",
     "start_time": "2023-09-14T05:18:44.335880Z"
    },
    "scrolled": false
   },
   "outputs": [
    {
     "data": {
      "image/png": "[encoded data removed]",
      "text/plain": [
       "<Figure size 1368x504 with 2 Axes>"
      ]
     },
     "metadata": {
      "needs_background": "light"
     },
     "output_type": "display_data"
    }
   ],
   "source": [
    "# Dalam bentuk persen\n",
    "\n",
    "fig, ax = plt.subplots(nrows=1, ncols=2, figsize=(19, 7))\n",
    "plt.suptitle('Perbandingan Luas Lahan dan Produksi Minyak Nabati', size=25) \n",
    "plt.subplots_adjust(left=None, bottom=None, right=None, top=None, wspace= 0.35, hspace=None)\n",
    "\n",
    "sns.barplot(data=df_2020_pct, y='Item', x=df_2020_pct['Persentase Produksi'], errorbar=None, ax=ax[0])\n",
    "ax[0].set_ylabel(None)\n",
    "ax[0].set_xlabel(None)\n",
    "ax[0].set(xticklabels=[])\n",
    "ax[0].set(title='Produksi Minyak (%)')\n",
    "ax[0].invert_xaxis()\n",
    "ax[0].tick_params(labelleft=False, left=False)\n",
    "ax[0].bar_label(ax[0].containers[0],position=(-5,0), size=13)\n",
    "ax[0].set(xlim=(45, 0))\n",
    "ax[0].grid(False)\n",
    "\n",
    "sns.barplot(data=df_2020_pct, y='Item', x=df_2020_pct['Persentase Luas'], errorbar=None, orient='h', ax=ax[1]) \n",
    "ax[1].set_ylabel(None)\n",
    "ax[1].set_xlabel(None)\n",
    "ax[1].set(xticklabels=[])\n",
    "ax[1].set(title='Luas Lahan (%)')\n",
    "ax[1].tick_params(axis='y', labelsize=15, length=0) \n",
    "ax[1].set_yticklabels(list(df_2020_pct['Item'].unique()), ha='center', position=(-0.16,0.2))\n",
    "ax[1].bar_label(ax[1].containers[0], position=(5, 0), size=13)\n",
    "ax[1].set(xlim=(0,45))\n",
    "ax[1].grid(False)\n",
    "\n",
    "sns.despine(bottom=True, right=True, left=True, top=True)\n",
    "plt.show()\n",
    "fig.savefig('Perbandingan Luas Lahan dan Produksi Minyak Nabati 2.png', transparent=True)"
   ]
  },
  {
   "cell_type": "markdown",
   "id": "388fa206",
   "metadata": {},
   "source": [
    "## Proporsi negara produsen minyak nabati (2020)"
   ]
  },
  {
   "cell_type": "code",
   "execution_count": 33,
   "id": "f7cbc4a9",
   "metadata": {
    "ExecuteTime": {
     "end_time": "2023-09-14T05:18:47.073858Z",
     "start_time": "2023-09-14T05:18:47.025401Z"
    }
   },
   "outputs": [],
   "source": [
    "Negara = list()\n",
    "df_area_2020_sum_group = df_area_2020_sum[['Area', 'Produksi_t', 'Luas_ha']]\n",
    "\n",
    "for i in range(df_area_2020_sum_group.shape[0]):\n",
    "    if i < 5:\n",
    "        nama = df_area_2020_sum_group['Area'][i]\n",
    "        Negara.append(nama)\n",
    "    else:\n",
    "        nama = 'Lainnya'\n",
    "        Negara.append(nama)\n",
    "\n",
    "df_area_2020_sum_group['Negara'] = Negara\n",
    "df_area_2020_sum_group_s = df_area_2020_sum_group[['Negara', 'Produksi_t', 'Luas_ha']].groupby(by=['Negara']).agg({\n",
    "    'Produksi_t':'sum', 'Luas_ha':'sum'}).sort_values('Produksi_t', ascending=False).reset_index()"
   ]
  },
  {
   "cell_type": "code",
   "execution_count": 34,
   "id": "97d13fb0",
   "metadata": {
    "ExecuteTime": {
     "end_time": "2023-09-14T05:18:47.242285Z",
     "start_time": "2023-09-14T05:18:47.080981Z"
    }
   },
   "outputs": [
    {
     "data": {
      "text/plain": [
       "['Solarize_Light2',\n",
       " '_classic_test_patch',\n",
       " '_mpl-gallery',\n",
       " '_mpl-gallery-nogrid',\n",
       " 'bmh',\n",
       " 'classic',\n",
       " 'dark_background',\n",
       " 'fast',\n",
       " 'fivethirtyeight',\n",
       " 'ggplot',\n",
       " 'grayscale',\n",
       " 'seaborn-v0_8',\n",
       " 'seaborn-v0_8-bright',\n",
       " 'seaborn-v0_8-colorblind',\n",
       " 'seaborn-v0_8-dark',\n",
       " 'seaborn-v0_8-dark-palette',\n",
       " 'seaborn-v0_8-darkgrid',\n",
       " 'seaborn-v0_8-deep',\n",
       " 'seaborn-v0_8-muted',\n",
       " 'seaborn-v0_8-notebook',\n",
       " 'seaborn-v0_8-paper',\n",
       " 'seaborn-v0_8-pastel',\n",
       " 'seaborn-v0_8-poster',\n",
       " 'seaborn-v0_8-talk',\n",
       " 'seaborn-v0_8-ticks',\n",
       " 'seaborn-v0_8-white',\n",
       " 'seaborn-v0_8-whitegrid',\n",
       " 'tableau-colorblind10']"
      ]
     },
     "execution_count": 34,
     "metadata": {},
     "output_type": "execute_result"
    }
   ],
   "source": [
    "plt.style.available"
   ]
  },
  {
   "cell_type": "code",
   "execution_count": 35,
   "id": "aa65568a",
   "metadata": {
    "ExecuteTime": {
     "end_time": "2023-09-14T05:18:49.148060Z",
     "start_time": "2023-09-14T05:18:47.247252Z"
    },
    "scrolled": false
   },
   "outputs": [
    {
     "data": {
      "image/png": "[encoded data removed]",
      "text/plain": [
       "<Figure size 1368x864 with 2 Axes>"
      ]
     },
     "metadata": {},
     "output_type": "display_data"
    }
   ],
   "source": [
    "fig, ax = plt.subplots(nrows=1, ncols=2, figsize=(19, 12))\n",
    "plt.style.use('seaborn-v0_8-pastel')\n",
    "plt.suptitle('Negara Penghasil Minyak Nabati Terbesar', size=25)\n",
    "\n",
    "ax[0].pie(df_area_2020_sum_group_s['Produksi_t'], labels=df_area_2020_sum_group_s['Negara'], \n",
    "        autopct = '%1.1f%%', textprops = {'fontsize':15})\n",
    "ax[0].set_title('Produksi', size=20)\n",
    "\n",
    "ax[1].pie(df_area_2020_sum_group_s['Luas_ha'], labels=df_area_2020_sum_group_s['Negara'], \n",
    "        autopct = '%1.1f%%', textprops = {'fontsize':15})\n",
    "ax[1].set_title('Luas Lahan', size=20)\n",
    "plt.show()\n",
    "\n",
    "fig.savefig('Negara Penghasil Minyak Nabati Terbesar.png', transparent=True)"
   ]
  },
  {
   "cell_type": "markdown",
   "id": "59c90386",
   "metadata": {},
   "source": [
    "## Proporsi Produksi Minyak Nabati di Indonesia (2020)"
   ]
  },
  {
   "cell_type": "code",
   "execution_count": 36,
   "id": "10040ccb",
   "metadata": {
    "ExecuteTime": {
     "end_time": "2023-09-14T05:18:49.246229Z",
     "start_time": "2023-09-14T05:18:49.170637Z"
    }
   },
   "outputs": [
    {
     "data": {
      "text/html": [
       "<div>\n",
       "<style scoped>\n",
       "    .dataframe tbody tr th:only-of-type {\n",
       "        vertical-align: middle;\n",
       "    }\n",
       "\n",
       "    .dataframe tbody tr th {\n",
       "        vertical-align: top;\n",
       "    }\n",
       "\n",
       "    .dataframe thead th {\n",
       "        text-align: right;\n",
       "    }\n",
       "</style>\n",
       "<table border=\"1\" class=\"dataframe\">\n",
       "  <thead>\n",
       "    <tr style=\"text-align: right;\">\n",
       "      <th></th>\n",
       "      <th>Item</th>\n",
       "      <th>Produksi_t</th>\n",
       "    </tr>\n",
       "  </thead>\n",
       "  <tbody>\n",
       "    <tr>\n",
       "      <th>0</th>\n",
       "      <td>Palm oil</td>\n",
       "      <td>89518294</td>\n",
       "    </tr>\n",
       "    <tr>\n",
       "      <th>1</th>\n",
       "      <td>Coconut oil</td>\n",
       "      <td>1198000</td>\n",
       "    </tr>\n",
       "    <tr>\n",
       "      <th>2</th>\n",
       "      <td>Soybean oil</td>\n",
       "      <td>786946</td>\n",
       "    </tr>\n",
       "    <tr>\n",
       "      <th>3</th>\n",
       "      <td>Groundnut oil</td>\n",
       "      <td>49362</td>\n",
       "    </tr>\n",
       "    <tr>\n",
       "      <th>4</th>\n",
       "      <td>Sunflower-seed oil</td>\n",
       "      <td>14321</td>\n",
       "    </tr>\n",
       "  </tbody>\n",
       "</table>\n",
       "</div>"
      ],
      "text/plain": [
       "                 Item  Produksi_t\n",
       "0            Palm oil    89518294\n",
       "1         Coconut oil     1198000\n",
       "2         Soybean oil      786946\n",
       "3       Groundnut oil       49362\n",
       "4  Sunflower-seed oil       14321"
      ]
     },
     "execution_count": 36,
     "metadata": {},
     "output_type": "execute_result"
    }
   ],
   "source": [
    "df_indonesia_2020 = df_indonesia_2020[['Item', 'Produksi_t']].sort_values('Produksi_t', ascending=False).reset_index(drop=True)\n",
    "df_indonesia_2020 "
   ]
  },
  {
   "cell_type": "code",
   "execution_count": 37,
   "id": "1be50262",
   "metadata": {
    "ExecuteTime": {
     "end_time": "2023-09-14T05:18:49.420817Z",
     "start_time": "2023-09-14T05:18:49.256454Z"
    }
   },
   "outputs": [
    {
     "data": {
      "text/html": [
       "<div>\n",
       "<style scoped>\n",
       "    .dataframe tbody tr th:only-of-type {\n",
       "        vertical-align: middle;\n",
       "    }\n",
       "\n",
       "    .dataframe tbody tr th {\n",
       "        vertical-align: top;\n",
       "    }\n",
       "\n",
       "    .dataframe thead th {\n",
       "        text-align: right;\n",
       "    }\n",
       "</style>\n",
       "<table border=\"1\" class=\"dataframe\">\n",
       "  <thead>\n",
       "    <tr style=\"text-align: right;\">\n",
       "      <th></th>\n",
       "      <th>Item</th>\n",
       "      <th>Produksi_t</th>\n",
       "      <th>Kategori</th>\n",
       "    </tr>\n",
       "  </thead>\n",
       "  <tbody>\n",
       "    <tr>\n",
       "      <th>0</th>\n",
       "      <td>Palm oil</td>\n",
       "      <td>89518294</td>\n",
       "      <td>Minyak Sawit</td>\n",
       "    </tr>\n",
       "    <tr>\n",
       "      <th>1</th>\n",
       "      <td>Coconut oil</td>\n",
       "      <td>1198000</td>\n",
       "      <td>Minyak Lainnya</td>\n",
       "    </tr>\n",
       "    <tr>\n",
       "      <th>2</th>\n",
       "      <td>Soybean oil</td>\n",
       "      <td>786946</td>\n",
       "      <td>Minyak Lainnya</td>\n",
       "    </tr>\n",
       "    <tr>\n",
       "      <th>3</th>\n",
       "      <td>Groundnut oil</td>\n",
       "      <td>49362</td>\n",
       "      <td>Minyak Lainnya</td>\n",
       "    </tr>\n",
       "    <tr>\n",
       "      <th>4</th>\n",
       "      <td>Sunflower-seed oil</td>\n",
       "      <td>14321</td>\n",
       "      <td>Minyak Lainnya</td>\n",
       "    </tr>\n",
       "  </tbody>\n",
       "</table>\n",
       "</div>"
      ],
      "text/plain": [
       "                 Item  Produksi_t        Kategori\n",
       "0            Palm oil    89518294    Minyak Sawit\n",
       "1         Coconut oil     1198000  Minyak Lainnya\n",
       "2         Soybean oil      786946  Minyak Lainnya\n",
       "3       Groundnut oil       49362  Minyak Lainnya\n",
       "4  Sunflower-seed oil       14321  Minyak Lainnya"
      ]
     },
     "execution_count": 37,
     "metadata": {},
     "output_type": "execute_result"
    }
   ],
   "source": [
    "cat = list()\n",
    "\n",
    "for i in range(df_indonesia_2020.shape[0]):\n",
    "    if i < 1:\n",
    "        cat.append('Minyak Sawit')\n",
    "    else:\n",
    "        cat.append('Minyak Lainnya')\n",
    "\n",
    "df_indonesia_2020['Kategori'] = cat\n",
    "df_indonesia_2020 "
   ]
  },
  {
   "cell_type": "code",
   "execution_count": 38,
   "id": "6fe5804f",
   "metadata": {
    "ExecuteTime": {
     "end_time": "2023-09-14T05:18:49.719119Z",
     "start_time": "2023-09-14T05:18:49.428803Z"
    }
   },
   "outputs": [
    {
     "data": {
      "text/html": [
       "<div>\n",
       "<style scoped>\n",
       "    .dataframe tbody tr th:only-of-type {\n",
       "        vertical-align: middle;\n",
       "    }\n",
       "\n",
       "    .dataframe tbody tr th {\n",
       "        vertical-align: top;\n",
       "    }\n",
       "\n",
       "    .dataframe thead th {\n",
       "        text-align: right;\n",
       "    }\n",
       "</style>\n",
       "<table border=\"1\" class=\"dataframe\">\n",
       "  <thead>\n",
       "    <tr style=\"text-align: right;\">\n",
       "      <th></th>\n",
       "      <th>Kategori</th>\n",
       "      <th>Produksi_t</th>\n",
       "    </tr>\n",
       "  </thead>\n",
       "  <tbody>\n",
       "    <tr>\n",
       "      <th>0</th>\n",
       "      <td>Minyak Lainnya</td>\n",
       "      <td>2048629</td>\n",
       "    </tr>\n",
       "    <tr>\n",
       "      <th>1</th>\n",
       "      <td>Minyak Sawit</td>\n",
       "      <td>89518294</td>\n",
       "    </tr>\n",
       "  </tbody>\n",
       "</table>\n",
       "</div>"
      ],
      "text/plain": [
       "         Kategori  Produksi_t\n",
       "0  Minyak Lainnya     2048629\n",
       "1    Minyak Sawit    89518294"
      ]
     },
     "execution_count": 38,
     "metadata": {},
     "output_type": "execute_result"
    }
   ],
   "source": [
    "df_indonesia_2020_cat = df_indonesia_2020[['Kategori', 'Produksi_t']].groupby('Kategori').sum().reset_index()\n",
    "df_indonesia_2020_cat"
   ]
  },
  {
   "cell_type": "code",
   "execution_count": 39,
   "id": "0ed364df",
   "metadata": {
    "ExecuteTime": {
     "end_time": "2023-09-14T05:18:51.053321Z",
     "start_time": "2023-09-14T05:18:49.732384Z"
    }
   },
   "outputs": [
    {
     "data": {
      "image/png": "[encoded data removed]",
      "text/plain": [
       "<Figure size 1368x864 with 1 Axes>"
      ]
     },
     "metadata": {},
     "output_type": "display_data"
    }
   ],
   "source": [
    "plt.figure(figsize=(19, 12))\n",
    "plt.style.use('seaborn-v0_8-pastel')\n",
    "plt.suptitle('Negara Penghasil Minyak Nabati Terbesar', size=25)\n",
    "\n",
    "plt.pie(df_indonesia_2020_cat['Produksi_t'], labels=df_indonesia_2020_cat['Kategori'], \n",
    "        autopct = '%1.1f%%', textprops = {'fontsize':15})\n",
    "\n",
    "plt.savefig('Proporsi minyak di indonesia.png', transparent=True)"
   ]
  },
  {
   "cell_type": "markdown",
   "id": "12d73f9b",
   "metadata": {},
   "source": [
    "## Proporsi Luas Kebun Sawit per wilayah"
   ]
  },
  {
   "cell_type": "code",
   "execution_count": 40,
   "id": "63dfb90a",
   "metadata": {
    "ExecuteTime": {
     "end_time": "2023-09-14T05:18:54.519106Z",
     "start_time": "2023-09-14T05:18:51.060315Z"
    }
   },
   "outputs": [
    {
     "data": {
      "image/png": "[encoded data removed]",
      "text/plain": [
       "<Figure size 720x720 with 1 Axes>"
      ]
     },
     "metadata": {
      "needs_background": "light"
     },
     "output_type": "display_data"
    }
   ],
   "source": [
    "plt.figure(figsize=(10,10))\n",
    "\n",
    "ax = sns.barplot(data=df_prov.head(25), x='Luas (kha)', y='Provinsi')\n",
    "ax.bar_label(ax.containers[0], position=(5, 0), size=13)\n",
    "ax.grid(False)\n",
    "ax.set(xticklabels=[])\n",
    "ax.set_xlabel(None)\n",
    "ax.set_ylabel(None)\n",
    "ax.tick_params(length=0)\n",
    "\n",
    "sns.despine(bottom=True, right=True, left=True, top=True)\n",
    "\n",
    "plt.savefig('Luas Kebun Sawit per Prov.png', transparent=True)"
   ]
  },
  {
   "cell_type": "markdown",
   "id": "1695ea85",
   "metadata": {},
   "source": [
    "## Efisiensi kelapa sawit indonesia vs malaysia"
   ]
  },
  {
   "cell_type": "code",
   "execution_count": 55,
   "id": "bbbaf9b8",
   "metadata": {
    "ExecuteTime": {
     "end_time": "2023-09-14T06:37:07.735408Z",
     "start_time": "2023-09-14T06:37:07.707347Z"
    }
   },
   "outputs": [
    {
     "data": {
      "text/html": [
       "<div>\n",
       "<style scoped>\n",
       "    .dataframe tbody tr th:only-of-type {\n",
       "        vertical-align: middle;\n",
       "    }\n",
       "\n",
       "    .dataframe tbody tr th {\n",
       "        vertical-align: top;\n",
       "    }\n",
       "\n",
       "    .dataframe thead th {\n",
       "        text-align: right;\n",
       "    }\n",
       "</style>\n",
       "<table border=\"1\" class=\"dataframe\">\n",
       "  <thead>\n",
       "    <tr style=\"text-align: right;\">\n",
       "      <th></th>\n",
       "      <th>Year</th>\n",
       "      <th>Area</th>\n",
       "      <th>Code</th>\n",
       "      <th>Item</th>\n",
       "      <th>Produksi_t</th>\n",
       "      <th>Luas_ha</th>\n",
       "      <th>Produksi per 1 juta hektar</th>\n",
       "    </tr>\n",
       "  </thead>\n",
       "  <tbody>\n",
       "    <tr>\n",
       "      <th>4937</th>\n",
       "      <td>2020</td>\n",
       "      <td>Indonesia</td>\n",
       "      <td>IDN</td>\n",
       "      <td>Palm oil</td>\n",
       "      <td>89518294</td>\n",
       "      <td>14586597</td>\n",
       "      <td>6137024</td>\n",
       "    </tr>\n",
       "    <tr>\n",
       "      <th>6396</th>\n",
       "      <td>2020</td>\n",
       "      <td>Malaysia</td>\n",
       "      <td>MYS</td>\n",
       "      <td>Palm oil</td>\n",
       "      <td>38281226</td>\n",
       "      <td>5231743</td>\n",
       "      <td>7317108</td>\n",
       "    </tr>\n",
       "  </tbody>\n",
       "</table>\n",
       "</div>"
      ],
      "text/plain": [
       "      Year       Area Code      Item  Produksi_t   Luas_ha  \\\n",
       "4937  2020  Indonesia  IDN  Palm oil    89518294  14586597   \n",
       "6396  2020   Malaysia  MYS  Palm oil    38281226   5231743   \n",
       "\n",
       "      Produksi per 1 juta hektar  \n",
       "4937                     6137024  \n",
       "6396                     7317108  "
      ]
     },
     "execution_count": 55,
     "metadata": {},
     "output_type": "execute_result"
    }
   ],
   "source": [
    "df_indo_malay_palm"
   ]
  },
  {
   "cell_type": "code",
   "execution_count": 61,
   "id": "2e8ddc7d",
   "metadata": {
    "ExecuteTime": {
     "end_time": "2023-09-14T06:45:38.308173Z",
     "start_time": "2023-09-14T06:45:38.158658Z"
    }
   },
   "outputs": [
    {
     "name": "stdout",
     "output_type": "stream",
     "text": [
      "<class 'pandas.core.frame.DataFrame'>\n",
      "Index: 2 entries, 4937 to 6396\n",
      "Data columns (total 7 columns):\n",
      " #   Column                      Non-Null Count  Dtype \n",
      "---  ------                      --------------  ----- \n",
      " 0   Year                        2 non-null      int64 \n",
      " 1   Area                        2 non-null      object\n",
      " 2   Code                        2 non-null      object\n",
      " 3   Item                        2 non-null      object\n",
      " 4   Produksi_t                  2 non-null      int64 \n",
      " 5   Luas_ha                     2 non-null      int64 \n",
      " 6   Produksi per 1 juta hektar  2 non-null      int64 \n",
      "dtypes: int64(4), object(3)\n",
      "memory usage: 128.0+ bytes\n"
     ]
    }
   ],
   "source": [
    "df_indo_malay_palm.info()"
   ]
  },
  {
   "cell_type": "code",
   "execution_count": 77,
   "id": "b77a0177",
   "metadata": {
    "ExecuteTime": {
     "end_time": "2023-09-14T07:59:13.926890Z",
     "start_time": "2023-09-14T07:59:13.287144Z"
    }
   },
   "outputs": [
    {
     "data": {
      "image/png": "[encoded data removed]",
      "text/plain": [
       "<Figure size 432x216 with 1 Axes>"
      ]
     },
     "metadata": {
      "needs_background": "light"
     },
     "output_type": "display_data"
    }
   ],
   "source": [
    "plt.figure(figsize=(6,3))\n",
    "\n",
    "ax = sns.barplot(data=df_indo_malay_palm, y=\"Area\",\n",
    "                 x=df_indo_malay_palm['Produksi per 1 juta hektar'].astype(int))\n",
    "ax.bar_label(ax.containers[0], fmt = '%d', position=(5, 0), size=13)\n",
    "ax.grid(False)\n",
    "ax.set(xticklabels=[])\n",
    "ax.set_xlabel(None)\n",
    "ax.set_ylabel(None)\n",
    "ax.tick_params(length=0)\n",
    "sns.despine(bottom=True, right=True, left=True, top=True)\n",
    "\n",
    "plt.savefig('Indo vs Malay.png', transparent=True)"
   ]
  }
 ],
 "metadata": {
  "hide_input": false,
  "kernelspec": {
   "display_name": "Python 3 (ipykernel)",
   "language": "python",
   "name": "python3"
  },
  "language_info": {
   "codemirror_mode": {
    "name": "ipython",
    "version": 3
   },
   "file_extension": ".py",
   "mimetype": "text/x-python",
   "name": "python",
   "nbconvert_exporter": "python",
   "pygments_lexer": "ipython3",
   "version": "3.10.12"
  },
  "toc": {
   "base_numbering": 1,
   "nav_menu": {},
   "number_sections": true,
   "sideBar": true,
   "skip_h1_title": false,
   "title_cell": "Table of Contents",
   "title_sidebar": "Contents",
   "toc_cell": false,
   "toc_position": {
    "height": "calc(100% - 180px)",
    "left": "10px",
    "top": "150px",
    "width": "275px"
   },
   "toc_section_display": true,
   "toc_window_display": true
  },
  "varInspector": {
   "cols": {
    "lenName": 16,
    "lenType": 16,
    "lenVar": 40
   },
   "kernels_config": {
    "python": {
     "delete_cmd_postfix": "",
     "delete_cmd_prefix": "del ",
     "library": "var_list.py",
     "varRefreshCmd": "print(var_dic_list())"
    },
    "r": {
     "delete_cmd_postfix": ") ",
     "delete_cmd_prefix": "rm(",
     "library": "var_list.r",
     "varRefreshCmd": "cat(var_dic_list()) "
    }
   },
   "types_to_exclude": [
    "module",
    "function",
    "builtin_function_or_method",
    "instance",
    "_Feature"
   ],
   "window_display": false
  }
 },
 "nbformat": 4,
 "nbformat_minor": 5
}
